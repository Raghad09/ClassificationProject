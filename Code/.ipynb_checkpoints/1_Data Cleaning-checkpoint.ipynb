{
 "cells": [
  {
   "cell_type": "markdown",
   "id": "5306ee20",
   "metadata": {},
   "source": [
    "# Data Cleaning"
   ]
  },
  {
   "cell_type": "markdown",
   "id": "6e5edf65",
   "metadata": {},
   "source": [
    "this notebook contains data preprocessing techniques "
   ]
  },
  {
   "cell_type": "markdown",
   "id": "8f528f2d",
   "metadata": {},
   "source": [
    "### Data Acquisition"
   ]
  },
  {
   "cell_type": "markdown",
   "id": "9915b097",
   "metadata": {},
   "source": [
    "Obtain 2013 snapshot data from [crunchbase.com](https://data.crunchbase.com/docs/2013-snapshot)."
   ]
  },
  {
   "cell_type": "code",
   "execution_count": 1,
   "id": "f267f610",
   "metadata": {},
   "outputs": [],
   "source": [
    "#code here"
   ]
  },
  {
   "cell_type": "code",
   "execution_count": 32,
   "id": "2393ec28",
   "metadata": {},
   "outputs": [],
   "source": [
    "import pandas as pd\n",
    "import numpy as np"
   ]
  },
  {
   "cell_type": "code",
   "execution_count": 88,
   "id": "7340aea7",
   "metadata": {},
   "outputs": [
    {
     "name": "stderr",
     "output_type": "stream",
     "text": [
      "C:\\Users\\hp\\ooo\\lib\\site-packages\\IPython\\core\\interactiveshell.py:3165: DtypeWarning: Columns (9) have mixed types.Specify dtype option on import or set low_memory=False.\n",
      "  has_raised = await self.run_ast_nodes(code_ast.body, cell_name,\n"
     ]
    }
   ],
   "source": [
    "#read obtained data\n",
    "companies = pd.read_csv('data/crunchbase-companies.csv')\n",
    "acquisitions = pd.read_csv('data/crunchbase-acquisitions.csv')\n",
    "investments = pd.read_csv('data/crunchbase-investments.csv')\n",
    "rounds = pd.read_csv('data/crunchbase-rounds.csv')"
   ]
  },
  {
   "cell_type": "markdown",
   "id": "34ca0c5b",
   "metadata": {},
   "source": [
    "### Data Cleaning and Exploring"
   ]
  },
  {
   "cell_type": "code",
   "execution_count": 3,
   "id": "34370f14",
   "metadata": {},
   "outputs": [
    {
     "data": {
      "text/plain": [
       "Index(['permalink', 'name', 'category_code', 'funding_total_usd', 'status',\n",
       "       'country_code', 'state_code', 'region', 'city', 'funding_rounds',\n",
       "       'founded_at', 'founded_month', 'founded_quarter', 'founded_year',\n",
       "       'first_funding_at', 'last_funding_at', 'last_milestone_at'],\n",
       "      dtype='object')"
      ]
     },
     "execution_count": 3,
     "metadata": {},
     "output_type": "execute_result"
    }
   ],
   "source": [
    "companies.columns"
   ]
  },
  {
   "cell_type": "code",
   "execution_count": 4,
   "id": "652f33c9",
   "metadata": {},
   "outputs": [
    {
     "data": {
      "text/plain": [
       "(17727, 17)"
      ]
     },
     "execution_count": 4,
     "metadata": {},
     "output_type": "execute_result"
    }
   ],
   "source": [
    "companies.shape"
   ]
  },
  {
   "cell_type": "markdown",
   "id": "07461965",
   "metadata": {},
   "source": [
    "Check null values based on columns"
   ]
  },
  {
   "cell_type": "code",
   "execution_count": 5,
   "id": "0087e956",
   "metadata": {},
   "outputs": [
    {
     "data": {
      "text/plain": [
       "permalink               0\n",
       "name                    0\n",
       "category_code         399\n",
       "funding_total_usd    1505\n",
       "status                  0\n",
       "country_code            0\n",
       "state_code            247\n",
       "region                  0\n",
       "city                  265\n",
       "funding_rounds          0\n",
       "founded_at           4051\n",
       "founded_month        4051\n",
       "founded_quarter      4051\n",
       "founded_year         4051\n",
       "first_funding_at      105\n",
       "last_funding_at       105\n",
       "last_milestone_at    7199\n",
       "dtype: int64"
      ]
     },
     "execution_count": 5,
     "metadata": {},
     "output_type": "execute_result"
    }
   ],
   "source": [
    "companies.isnull().sum()"
   ]
  },
  {
   "cell_type": "markdown",
   "id": "e7a345da",
   "metadata": {},
   "source": [
    "**Drop** companies with no funding_total_usd or first_funding_at or category_code columns"
   ]
  },
  {
   "cell_type": "code",
   "execution_count": 6,
   "id": "1faf6a36",
   "metadata": {},
   "outputs": [
    {
     "data": {
      "text/plain": [
       "(17622, 17)"
      ]
     },
     "execution_count": 6,
     "metadata": {},
     "output_type": "execute_result"
    }
   ],
   "source": [
    "companies = companies.dropna(subset=['first_funding_at'])\n",
    "companies.reset_index(drop=True, inplace=True)\n",
    "companies.shape"
   ]
  },
  {
   "cell_type": "code",
   "execution_count": 7,
   "id": "366085f5",
   "metadata": {},
   "outputs": [
    {
     "data": {
      "text/plain": [
       "(17224, 17)"
      ]
     },
     "execution_count": 7,
     "metadata": {},
     "output_type": "execute_result"
    }
   ],
   "source": [
    "companies = companies.dropna(subset=['category_code'])\n",
    "companies.reset_index(drop=True, inplace=True)\n",
    "companies.shape"
   ]
  },
  {
   "cell_type": "code",
   "execution_count": 8,
   "id": "80d204bd",
   "metadata": {},
   "outputs": [
    {
     "data": {
      "text/plain": [
       "(15827, 17)"
      ]
     },
     "execution_count": 8,
     "metadata": {},
     "output_type": "execute_result"
    }
   ],
   "source": [
    "companies = companies.dropna(subset=['funding_total_usd'])\n",
    "companies.reset_index(drop=True, inplace=True)\n",
    "companies.shape"
   ]
  },
  {
   "cell_type": "markdown",
   "id": "4e0cdff7",
   "metadata": {},
   "source": [
    "Change the data types"
   ]
  },
  {
   "cell_type": "code",
   "execution_count": 9,
   "id": "0794cc4f",
   "metadata": {},
   "outputs": [
    {
     "data": {
      "text/plain": [
       "permalink             object\n",
       "name                  object\n",
       "category_code         object\n",
       "funding_total_usd     object\n",
       "status                object\n",
       "country_code          object\n",
       "state_code            object\n",
       "region                object\n",
       "city                  object\n",
       "funding_rounds         int64\n",
       "founded_at            object\n",
       "founded_month         object\n",
       "founded_quarter       object\n",
       "founded_year         float64\n",
       "first_funding_at      object\n",
       "last_funding_at       object\n",
       "last_milestone_at     object\n",
       "dtype: object"
      ]
     },
     "execution_count": 9,
     "metadata": {},
     "output_type": "execute_result"
    }
   ],
   "source": [
    "companies.dtypes"
   ]
  },
  {
   "cell_type": "markdown",
   "id": "afa0f89b",
   "metadata": {},
   "source": [
    "before converting Funding_total_usd we should find noisy data. data that can't be converted to numeric values"
   ]
  },
  {
   "cell_type": "code",
   "execution_count": 10,
   "id": "d685a300",
   "metadata": {},
   "outputs": [],
   "source": [
    "x=pd.to_numeric(companies['funding_total_usd'], errors='coerce').isnull()"
   ]
  },
  {
   "cell_type": "code",
   "execution_count": 11,
   "id": "17911e43",
   "metadata": {},
   "outputs": [
    {
     "data": {
      "text/plain": [
       "6866    True\n",
       "6869    True\n",
       "7099    True\n",
       "7202    True\n",
       "7309    True\n",
       "7476    True\n",
       "8101    True\n",
       "8124    True\n",
       "8170    True\n",
       "8172    True\n",
       "9672    True\n",
       "9700    True\n",
       "Name: funding_total_usd, dtype: bool"
      ]
     },
     "execution_count": 11,
     "metadata": {},
     "output_type": "execute_result"
    }
   ],
   "source": [
    "x= x.loc[lambda x : x!=False]\n",
    "x"
   ]
  },
  {
   "cell_type": "code",
   "execution_count": 12,
   "id": "fc0d6692",
   "metadata": {},
   "outputs": [
    {
     "data": {
      "text/plain": [
       "'5/18/27'"
      ]
     },
     "execution_count": 12,
     "metadata": {},
     "output_type": "execute_result"
    }
   ],
   "source": [
    "#example of noiy data\n",
    "companies['funding_total_usd'].iloc[6866]"
   ]
  },
  {
   "cell_type": "markdown",
   "id": "fb3fde2c",
   "metadata": {},
   "source": [
    "drop noisy data"
   ]
  },
  {
   "cell_type": "code",
   "execution_count": 13,
   "id": "9cc7a3cf",
   "metadata": {},
   "outputs": [
    {
     "data": {
      "text/plain": [
       "(12,)"
      ]
     },
     "execution_count": 13,
     "metadata": {},
     "output_type": "execute_result"
    }
   ],
   "source": [
    "x.shape"
   ]
  },
  {
   "cell_type": "code",
   "execution_count": 14,
   "id": "0fc56bd0",
   "metadata": {},
   "outputs": [],
   "source": [
    "indexes= x.index.tolist()"
   ]
  },
  {
   "cell_type": "code",
   "execution_count": 15,
   "id": "14f74ed7",
   "metadata": {},
   "outputs": [],
   "source": [
    "companies.drop(companies.index[indexes], inplace=True)"
   ]
  },
  {
   "cell_type": "markdown",
   "id": "89714416",
   "metadata": {},
   "source": [
    "now that 'funding_total_usd' is cleaned, we can convert it to integer"
   ]
  },
  {
   "cell_type": "code",
   "execution_count": 16,
   "id": "c0abc102",
   "metadata": {},
   "outputs": [],
   "source": [
    "companies['funding_total_usd']=  companies['funding_total_usd'].astype(str).astype(float)"
   ]
  },
  {
   "cell_type": "markdown",
   "id": "5e62f40f",
   "metadata": {},
   "source": [
    "Convert (first_funding_at,last_funding_at) to date data type"
   ]
  },
  {
   "cell_type": "code",
   "execution_count": 17,
   "id": "d8213767",
   "metadata": {},
   "outputs": [
    {
     "data": {
      "text/plain": [
       "'2010-10-25'"
      ]
     },
     "execution_count": 17,
     "metadata": {},
     "output_type": "execute_result"
    }
   ],
   "source": [
    "companies['first_funding_at'][30]"
   ]
  },
  {
   "cell_type": "code",
   "execution_count": 18,
   "id": "a71f9601",
   "metadata": {},
   "outputs": [],
   "source": [
    "import datetime as dt\n",
    "companies['first_funding_at']= pd.to_datetime(companies['first_funding_at'], format=\"%Y-%m-%d\").dt.date"
   ]
  },
  {
   "cell_type": "code",
   "execution_count": 19,
   "id": "6092f2fb",
   "metadata": {},
   "outputs": [],
   "source": [
    "\n",
    "companies['last_funding_at']= pd.to_datetime(companies['last_funding_at'],format=\"%Y-%m-%d\").dt.date"
   ]
  },
  {
   "cell_type": "code",
   "execution_count": 20,
   "id": "337d1a88",
   "metadata": {},
   "outputs": [],
   "source": [
    "companies['last_milestone_at']= pd.to_datetime(companies['last_milestone_at'],format=\"%Y-%m-%d\").dt.date"
   ]
  },
  {
   "cell_type": "code",
   "execution_count": 21,
   "id": "97697f6a",
   "metadata": {},
   "outputs": [],
   "source": [
    "companies['founded_at']= pd.to_datetime(companies['founded_at'],format=\"%Y-%m-%d\").dt.date"
   ]
  },
  {
   "cell_type": "code",
   "execution_count": 22,
   "id": "a81b8fa5",
   "metadata": {},
   "outputs": [
    {
     "name": "stdout",
     "output_type": "stream",
     "text": [
      "<class 'pandas.core.frame.DataFrame'>\n",
      "Int64Index: 15815 entries, 0 to 15826\n",
      "Data columns (total 17 columns):\n",
      " #   Column             Non-Null Count  Dtype  \n",
      "---  ------             --------------  -----  \n",
      " 0   permalink          15815 non-null  object \n",
      " 1   name               15815 non-null  object \n",
      " 2   category_code      15815 non-null  object \n",
      " 3   funding_total_usd  15815 non-null  float64\n",
      " 4   status             15815 non-null  object \n",
      " 5   country_code       15815 non-null  object \n",
      " 6   state_code         15608 non-null  object \n",
      " 7   region             15815 non-null  object \n",
      " 8   city               15612 non-null  object \n",
      " 9   funding_rounds     15815 non-null  int64  \n",
      " 10  founded_at         12330 non-null  object \n",
      " 11  founded_month      12330 non-null  object \n",
      " 12  founded_quarter    12330 non-null  object \n",
      " 13  founded_year       12330 non-null  float64\n",
      " 14  first_funding_at   15815 non-null  object \n",
      " 15  last_funding_at    15815 non-null  object \n",
      " 16  last_milestone_at  9501 non-null   object \n",
      "dtypes: float64(2), int64(1), object(14)\n",
      "memory usage: 2.7+ MB\n"
     ]
    }
   ],
   "source": [
    "companies.info()"
   ]
  },
  {
   "cell_type": "markdown",
   "id": "6218f32a",
   "metadata": {},
   "source": [
    "Explore the 'Status' column"
   ]
  },
  {
   "cell_type": "code",
   "execution_count": 24,
   "id": "b24edaa1",
   "metadata": {},
   "outputs": [
    {
     "data": {
      "text/plain": [
       "operating    13491\n",
       "acquired      1495\n",
       "closed         495\n",
       "ipo            334\n",
       "Name: status, dtype: int64"
      ]
     },
     "execution_count": 24,
     "metadata": {},
     "output_type": "execute_result"
    }
   ],
   "source": [
    "companies.status.value_counts()\n"
   ]
  },
  {
   "cell_type": "code",
   "execution_count": 40,
   "id": "7c1c0bbb",
   "metadata": {},
   "outputs": [
    {
     "data": {
      "text/html": [
       "<div>\n",
       "<style scoped>\n",
       "    .dataframe tbody tr th:only-of-type {\n",
       "        vertical-align: middle;\n",
       "    }\n",
       "\n",
       "    .dataframe tbody tr th {\n",
       "        vertical-align: top;\n",
       "    }\n",
       "\n",
       "    .dataframe thead th {\n",
       "        text-align: right;\n",
       "    }\n",
       "</style>\n",
       "<table border=\"1\" class=\"dataframe\">\n",
       "  <thead>\n",
       "    <tr style=\"text-align: right;\">\n",
       "      <th></th>\n",
       "      <th>permalink</th>\n",
       "      <th>name</th>\n",
       "      <th>category_code</th>\n",
       "      <th>funding_total_usd</th>\n",
       "      <th>status</th>\n",
       "      <th>country_code</th>\n",
       "      <th>state_code</th>\n",
       "      <th>region</th>\n",
       "      <th>city</th>\n",
       "      <th>funding_rounds</th>\n",
       "      <th>founded_at</th>\n",
       "      <th>founded_month</th>\n",
       "      <th>founded_quarter</th>\n",
       "      <th>founded_year</th>\n",
       "      <th>first_funding_at</th>\n",
       "      <th>last_funding_at</th>\n",
       "      <th>last_milestone_at</th>\n",
       "    </tr>\n",
       "  </thead>\n",
       "  <tbody>\n",
       "    <tr>\n",
       "      <th>0</th>\n",
       "      <td>/company/waywire</td>\n",
       "      <td>#waywire</td>\n",
       "      <td>news</td>\n",
       "      <td>1750000.0</td>\n",
       "      <td>operating</td>\n",
       "      <td>USA</td>\n",
       "      <td>NY</td>\n",
       "      <td>New York</td>\n",
       "      <td>New York</td>\n",
       "      <td>1</td>\n",
       "      <td>2012-06-01</td>\n",
       "      <td>2012-06</td>\n",
       "      <td>2012-Q2</td>\n",
       "      <td>2012.0</td>\n",
       "      <td>2012-06-30</td>\n",
       "      <td>2012-06-30</td>\n",
       "      <td>2013-09-06</td>\n",
       "    </tr>\n",
       "    <tr>\n",
       "      <th>1</th>\n",
       "      <td>/company/n-plusn</td>\n",
       "      <td>#NAME?</td>\n",
       "      <td>software</td>\n",
       "      <td>600000.0</td>\n",
       "      <td>operating</td>\n",
       "      <td>USA</td>\n",
       "      <td>NY</td>\n",
       "      <td>New York</td>\n",
       "      <td>New York</td>\n",
       "      <td>1</td>\n",
       "      <td>2012-01-01</td>\n",
       "      <td>2012-01</td>\n",
       "      <td>2012-Q1</td>\n",
       "      <td>2012.0</td>\n",
       "      <td>2012-08-29</td>\n",
       "      <td>2012-08-29</td>\n",
       "      <td>NaT</td>\n",
       "    </tr>\n",
       "    <tr>\n",
       "      <th>4</th>\n",
       "      <td>/company/10-20-media</td>\n",
       "      <td>10-20 Media</td>\n",
       "      <td>ecommerce</td>\n",
       "      <td>750000.0</td>\n",
       "      <td>operating</td>\n",
       "      <td>USA</td>\n",
       "      <td>MD</td>\n",
       "      <td>Washington DC</td>\n",
       "      <td>Woodbine</td>\n",
       "      <td>2</td>\n",
       "      <td>2001-01-01</td>\n",
       "      <td>2001-01</td>\n",
       "      <td>2001-Q1</td>\n",
       "      <td>2001.0</td>\n",
       "      <td>2010-03-30</td>\n",
       "      <td>2011-12-28</td>\n",
       "      <td>NaT</td>\n",
       "    </tr>\n",
       "    <tr>\n",
       "      <th>8</th>\n",
       "      <td>/company/1010data</td>\n",
       "      <td>1010data</td>\n",
       "      <td>software</td>\n",
       "      <td>35000000.0</td>\n",
       "      <td>operating</td>\n",
       "      <td>USA</td>\n",
       "      <td>NY</td>\n",
       "      <td>New York</td>\n",
       "      <td>New York</td>\n",
       "      <td>1</td>\n",
       "      <td>2000-01-01</td>\n",
       "      <td>2000-01</td>\n",
       "      <td>2000-Q1</td>\n",
       "      <td>2000.0</td>\n",
       "      <td>2010-03-08</td>\n",
       "      <td>2010-03-08</td>\n",
       "      <td>2012-01-01</td>\n",
       "    </tr>\n",
       "    <tr>\n",
       "      <th>9</th>\n",
       "      <td>/company/10bestthings</td>\n",
       "      <td>10BestThings</td>\n",
       "      <td>web</td>\n",
       "      <td>50000.0</td>\n",
       "      <td>operating</td>\n",
       "      <td>USA</td>\n",
       "      <td>OH</td>\n",
       "      <td>Cleveland</td>\n",
       "      <td>Cleveland</td>\n",
       "      <td>1</td>\n",
       "      <td>2009-04-01</td>\n",
       "      <td>2009-04</td>\n",
       "      <td>2009-Q2</td>\n",
       "      <td>2009.0</td>\n",
       "      <td>2009-04-01</td>\n",
       "      <td>2009-04-01</td>\n",
       "      <td>NaT</td>\n",
       "    </tr>\n",
       "    <tr>\n",
       "      <th>...</th>\n",
       "      <td>...</td>\n",
       "      <td>...</td>\n",
       "      <td>...</td>\n",
       "      <td>...</td>\n",
       "      <td>...</td>\n",
       "      <td>...</td>\n",
       "      <td>...</td>\n",
       "      <td>...</td>\n",
       "      <td>...</td>\n",
       "      <td>...</td>\n",
       "      <td>...</td>\n",
       "      <td>...</td>\n",
       "      <td>...</td>\n",
       "      <td>...</td>\n",
       "      <td>...</td>\n",
       "      <td>...</td>\n",
       "      <td>...</td>\n",
       "    </tr>\n",
       "    <tr>\n",
       "      <th>15815</th>\n",
       "      <td>/company/zyga-technology</td>\n",
       "      <td>Zyga Technology</td>\n",
       "      <td>medical</td>\n",
       "      <td>25000000.0</td>\n",
       "      <td>operating</td>\n",
       "      <td>USA</td>\n",
       "      <td>MN</td>\n",
       "      <td>Minneapolis</td>\n",
       "      <td>Minnetonka</td>\n",
       "      <td>1</td>\n",
       "      <td>NaT</td>\n",
       "      <td>NaN</td>\n",
       "      <td>NaN</td>\n",
       "      <td>NaN</td>\n",
       "      <td>2012-05-16</td>\n",
       "      <td>2012-05-16</td>\n",
       "      <td>NaT</td>\n",
       "    </tr>\n",
       "    <tr>\n",
       "      <th>15817</th>\n",
       "      <td>/company/zykis</td>\n",
       "      <td>Zykis</td>\n",
       "      <td>public_relations</td>\n",
       "      <td>800000.0</td>\n",
       "      <td>operating</td>\n",
       "      <td>USA</td>\n",
       "      <td>CA</td>\n",
       "      <td>Los Angeles</td>\n",
       "      <td>Irvine</td>\n",
       "      <td>1</td>\n",
       "      <td>2006-10-27</td>\n",
       "      <td>2006-10</td>\n",
       "      <td>2006-Q4</td>\n",
       "      <td>2006.0</td>\n",
       "      <td>2006-10-27</td>\n",
       "      <td>2006-10-27</td>\n",
       "      <td>NaT</td>\n",
       "    </tr>\n",
       "    <tr>\n",
       "      <th>15819</th>\n",
       "      <td>/company/zymetis</td>\n",
       "      <td>Zymetis</td>\n",
       "      <td>biotech</td>\n",
       "      <td>2257464.0</td>\n",
       "      <td>operating</td>\n",
       "      <td>USA</td>\n",
       "      <td>MD</td>\n",
       "      <td>Washington DC</td>\n",
       "      <td>College Park</td>\n",
       "      <td>2</td>\n",
       "      <td>2006-01-01</td>\n",
       "      <td>2006-01</td>\n",
       "      <td>2006-Q1</td>\n",
       "      <td>2006.0</td>\n",
       "      <td>2010-01-11</td>\n",
       "      <td>2010-01-31</td>\n",
       "      <td>NaT</td>\n",
       "    </tr>\n",
       "    <tr>\n",
       "      <th>15821</th>\n",
       "      <td>/company/zyngenia</td>\n",
       "      <td>Zyngenia</td>\n",
       "      <td>biotech</td>\n",
       "      <td>25000000.0</td>\n",
       "      <td>operating</td>\n",
       "      <td>USA</td>\n",
       "      <td>MD</td>\n",
       "      <td>Washington DC</td>\n",
       "      <td>Gaithersburg</td>\n",
       "      <td>1</td>\n",
       "      <td>2008-01-01</td>\n",
       "      <td>2008-01</td>\n",
       "      <td>2008-Q1</td>\n",
       "      <td>2008.0</td>\n",
       "      <td>2010-09-09</td>\n",
       "      <td>2010-09-09</td>\n",
       "      <td>NaT</td>\n",
       "    </tr>\n",
       "    <tr>\n",
       "      <th>15824</th>\n",
       "      <td>/company/zyrra</td>\n",
       "      <td>Zyrra</td>\n",
       "      <td>ecommerce</td>\n",
       "      <td>1460500.0</td>\n",
       "      <td>operating</td>\n",
       "      <td>USA</td>\n",
       "      <td>MA</td>\n",
       "      <td>Boston</td>\n",
       "      <td>Cambridge</td>\n",
       "      <td>3</td>\n",
       "      <td>NaT</td>\n",
       "      <td>NaN</td>\n",
       "      <td>NaN</td>\n",
       "      <td>NaN</td>\n",
       "      <td>2010-11-15</td>\n",
       "      <td>2012-10-18</td>\n",
       "      <td>NaT</td>\n",
       "    </tr>\n",
       "  </tbody>\n",
       "</table>\n",
       "<p>8840 rows × 17 columns</p>\n",
       "</div>"
      ],
      "text/plain": [
       "                      permalink             name     category_code  \\\n",
       "0              /company/waywire         #waywire              news   \n",
       "1              /company/n-plusn           #NAME?          software   \n",
       "4          /company/10-20-media      10-20 Media         ecommerce   \n",
       "8             /company/1010data         1010data          software   \n",
       "9         /company/10bestthings     10BestThings               web   \n",
       "...                         ...              ...               ...   \n",
       "15815  /company/zyga-technology  Zyga Technology           medical   \n",
       "15817            /company/zykis            Zykis  public_relations   \n",
       "15819          /company/zymetis          Zymetis           biotech   \n",
       "15821         /company/zyngenia         Zyngenia           biotech   \n",
       "15824            /company/zyrra            Zyrra         ecommerce   \n",
       "\n",
       "       funding_total_usd     status country_code state_code         region  \\\n",
       "0              1750000.0  operating          USA         NY       New York   \n",
       "1               600000.0  operating          USA         NY       New York   \n",
       "4               750000.0  operating          USA         MD  Washington DC   \n",
       "8             35000000.0  operating          USA         NY       New York   \n",
       "9                50000.0  operating          USA         OH      Cleveland   \n",
       "...                  ...        ...          ...        ...            ...   \n",
       "15815         25000000.0  operating          USA         MN    Minneapolis   \n",
       "15817           800000.0  operating          USA         CA    Los Angeles   \n",
       "15819          2257464.0  operating          USA         MD  Washington DC   \n",
       "15821         25000000.0  operating          USA         MD  Washington DC   \n",
       "15824          1460500.0  operating          USA         MA         Boston   \n",
       "\n",
       "               city  funding_rounds  founded_at founded_month founded_quarter  \\\n",
       "0          New York               1  2012-06-01       2012-06         2012-Q2   \n",
       "1          New York               1  2012-01-01       2012-01         2012-Q1   \n",
       "4          Woodbine               2  2001-01-01       2001-01         2001-Q1   \n",
       "8          New York               1  2000-01-01       2000-01         2000-Q1   \n",
       "9         Cleveland               1  2009-04-01       2009-04         2009-Q2   \n",
       "...             ...             ...         ...           ...             ...   \n",
       "15815    Minnetonka               1         NaT           NaN             NaN   \n",
       "15817        Irvine               1  2006-10-27       2006-10         2006-Q4   \n",
       "15819  College Park               2  2006-01-01       2006-01         2006-Q1   \n",
       "15821  Gaithersburg               1  2008-01-01       2008-01         2008-Q1   \n",
       "15824     Cambridge               3         NaT           NaN             NaN   \n",
       "\n",
       "       founded_year first_funding_at last_funding_at last_milestone_at  \n",
       "0            2012.0       2012-06-30      2012-06-30        2013-09-06  \n",
       "1            2012.0       2012-08-29      2012-08-29               NaT  \n",
       "4            2001.0       2010-03-30      2011-12-28               NaT  \n",
       "8            2000.0       2010-03-08      2010-03-08        2012-01-01  \n",
       "9            2009.0       2009-04-01      2009-04-01               NaT  \n",
       "...             ...              ...             ...               ...  \n",
       "15815           NaN       2012-05-16      2012-05-16               NaT  \n",
       "15817        2006.0       2006-10-27      2006-10-27               NaT  \n",
       "15819        2006.0       2010-01-11      2010-01-31               NaT  \n",
       "15821        2008.0       2010-09-09      2010-09-09               NaT  \n",
       "15824           NaN       2010-11-15      2012-10-18               NaT  \n",
       "\n",
       "[8840 rows x 17 columns]"
      ]
     },
     "execution_count": 40,
     "metadata": {},
     "output_type": "execute_result"
    }
   ],
   "source": [
    "# See how many operating companies were last funded more than 2.5 years ago\n",
    "companies[np.logical_and(\n",
    "    np.logical_and(companies.last_funding_at < pd.to_datetime('2013'), companies.first_funding_at >  pd.to_datetime('2005')),\n",
    "    companies.status == 'operating')]"
   ]
  },
  {
   "cell_type": "code",
   "execution_count": 42,
   "id": "28846106",
   "metadata": {},
   "outputs": [],
   "source": [
    "# Create dataset containing only companies that failed or succeeded\n",
    "\n",
    "current_date = companies.last_funding_at.max()\n",
    "\n",
    "nonoperating_companies = companies[np.logical_or(\n",
    "    companies.status != 'operating',\n",
    "    np.logical_and(\n",
    "        np.logical_and(\n",
    "            companies.status == 'operating',\n",
    "            companies.first_funding_at >\n",
    "            current_date - pd.offsets.DateOffset(years=10)),\n",
    "        companies.last_funding_at < current_date -\n",
    "        pd.offsets.DateOffset(years=2, months=6)))].reset_index()"
   ]
  },
  {
   "cell_type": "code",
   "execution_count": 43,
   "id": "c9d6d082",
   "metadata": {},
   "outputs": [
    {
     "data": {
      "text/html": [
       "<div>\n",
       "<style scoped>\n",
       "    .dataframe tbody tr th:only-of-type {\n",
       "        vertical-align: middle;\n",
       "    }\n",
       "\n",
       "    .dataframe tbody tr th {\n",
       "        vertical-align: top;\n",
       "    }\n",
       "\n",
       "    .dataframe thead th {\n",
       "        text-align: right;\n",
       "    }\n",
       "</style>\n",
       "<table border=\"1\" class=\"dataframe\">\n",
       "  <thead>\n",
       "    <tr style=\"text-align: right;\">\n",
       "      <th></th>\n",
       "      <th>index</th>\n",
       "      <th>permalink</th>\n",
       "      <th>name</th>\n",
       "      <th>category_code</th>\n",
       "      <th>funding_total_usd</th>\n",
       "      <th>status</th>\n",
       "      <th>country_code</th>\n",
       "      <th>state_code</th>\n",
       "      <th>region</th>\n",
       "      <th>city</th>\n",
       "      <th>funding_rounds</th>\n",
       "      <th>founded_at</th>\n",
       "      <th>founded_month</th>\n",
       "      <th>founded_quarter</th>\n",
       "      <th>founded_year</th>\n",
       "      <th>first_funding_at</th>\n",
       "      <th>last_funding_at</th>\n",
       "      <th>last_milestone_at</th>\n",
       "    </tr>\n",
       "  </thead>\n",
       "  <tbody>\n",
       "    <tr>\n",
       "      <th>0</th>\n",
       "      <td>5</td>\n",
       "      <td>/company/1000memories</td>\n",
       "      <td>1000memories</td>\n",
       "      <td>web</td>\n",
       "      <td>2535000.0</td>\n",
       "      <td>acquired</td>\n",
       "      <td>USA</td>\n",
       "      <td>CA</td>\n",
       "      <td>SF Bay</td>\n",
       "      <td>San Francisco</td>\n",
       "      <td>2</td>\n",
       "      <td>2010-07-01</td>\n",
       "      <td>2010-07</td>\n",
       "      <td>2010-Q3</td>\n",
       "      <td>2010.0</td>\n",
       "      <td>2010-01-01</td>\n",
       "      <td>2011-02-16</td>\n",
       "      <td>2013-07-04</td>\n",
       "    </tr>\n",
       "    <tr>\n",
       "      <th>1</th>\n",
       "      <td>7</td>\n",
       "      <td>/company/100plus</td>\n",
       "      <td>100Plus</td>\n",
       "      <td>analytics</td>\n",
       "      <td>1250000.0</td>\n",
       "      <td>acquired</td>\n",
       "      <td>USA</td>\n",
       "      <td>CA</td>\n",
       "      <td>SF Bay</td>\n",
       "      <td>San Francisco</td>\n",
       "      <td>2</td>\n",
       "      <td>2011-09-16</td>\n",
       "      <td>2011-09</td>\n",
       "      <td>2011-Q3</td>\n",
       "      <td>2011.0</td>\n",
       "      <td>2011-11-02</td>\n",
       "      <td>2011-11-30</td>\n",
       "      <td>2013-02-27</td>\n",
       "    </tr>\n",
       "    <tr>\n",
       "      <th>2</th>\n",
       "      <td>8</td>\n",
       "      <td>/company/1010data</td>\n",
       "      <td>1010data</td>\n",
       "      <td>software</td>\n",
       "      <td>35000000.0</td>\n",
       "      <td>operating</td>\n",
       "      <td>USA</td>\n",
       "      <td>NY</td>\n",
       "      <td>New York</td>\n",
       "      <td>New York</td>\n",
       "      <td>1</td>\n",
       "      <td>2000-01-01</td>\n",
       "      <td>2000-01</td>\n",
       "      <td>2000-Q1</td>\n",
       "      <td>2000.0</td>\n",
       "      <td>2010-03-08</td>\n",
       "      <td>2010-03-08</td>\n",
       "      <td>2012-01-01</td>\n",
       "    </tr>\n",
       "    <tr>\n",
       "      <th>3</th>\n",
       "      <td>9</td>\n",
       "      <td>/company/10bestthings</td>\n",
       "      <td>10BestThings</td>\n",
       "      <td>web</td>\n",
       "      <td>50000.0</td>\n",
       "      <td>operating</td>\n",
       "      <td>USA</td>\n",
       "      <td>OH</td>\n",
       "      <td>Cleveland</td>\n",
       "      <td>Cleveland</td>\n",
       "      <td>1</td>\n",
       "      <td>2009-04-01</td>\n",
       "      <td>2009-04</td>\n",
       "      <td>2009-Q2</td>\n",
       "      <td>2009.0</td>\n",
       "      <td>2009-04-01</td>\n",
       "      <td>2009-04-01</td>\n",
       "      <td>NaT</td>\n",
       "    </tr>\n",
       "    <tr>\n",
       "      <th>4</th>\n",
       "      <td>12</td>\n",
       "      <td>/company/11i-solutions</td>\n",
       "      <td>11i Solutions</td>\n",
       "      <td>enterprise</td>\n",
       "      <td>1800000.0</td>\n",
       "      <td>closed</td>\n",
       "      <td>USA</td>\n",
       "      <td>AL</td>\n",
       "      <td>Huntsville</td>\n",
       "      <td>Huntsville</td>\n",
       "      <td>1</td>\n",
       "      <td>NaT</td>\n",
       "      <td>NaN</td>\n",
       "      <td>NaN</td>\n",
       "      <td>NaN</td>\n",
       "      <td>2011-03-22</td>\n",
       "      <td>2011-03-22</td>\n",
       "      <td>NaT</td>\n",
       "    </tr>\n",
       "  </tbody>\n",
       "</table>\n",
       "</div>"
      ],
      "text/plain": [
       "   index               permalink           name category_code  \\\n",
       "0      5   /company/1000memories   1000memories           web   \n",
       "1      7        /company/100plus        100Plus     analytics   \n",
       "2      8       /company/1010data       1010data      software   \n",
       "3      9   /company/10bestthings   10BestThings           web   \n",
       "4     12  /company/11i-solutions  11i Solutions    enterprise   \n",
       "\n",
       "   funding_total_usd     status country_code state_code      region  \\\n",
       "0          2535000.0   acquired          USA         CA      SF Bay   \n",
       "1          1250000.0   acquired          USA         CA      SF Bay   \n",
       "2         35000000.0  operating          USA         NY    New York   \n",
       "3            50000.0  operating          USA         OH   Cleveland   \n",
       "4          1800000.0     closed          USA         AL  Huntsville   \n",
       "\n",
       "            city  funding_rounds  founded_at founded_month founded_quarter  \\\n",
       "0  San Francisco               2  2010-07-01       2010-07         2010-Q3   \n",
       "1  San Francisco               2  2011-09-16       2011-09         2011-Q3   \n",
       "2       New York               1  2000-01-01       2000-01         2000-Q1   \n",
       "3      Cleveland               1  2009-04-01       2009-04         2009-Q2   \n",
       "4     Huntsville               1         NaT           NaN             NaN   \n",
       "\n",
       "   founded_year first_funding_at last_funding_at last_milestone_at  \n",
       "0        2010.0       2010-01-01      2011-02-16        2013-07-04  \n",
       "1        2011.0       2011-11-02      2011-11-30        2013-02-27  \n",
       "2        2000.0       2010-03-08      2010-03-08        2012-01-01  \n",
       "3        2009.0       2009-04-01      2009-04-01               NaT  \n",
       "4           NaN       2011-03-22      2011-03-22               NaT  "
      ]
     },
     "execution_count": 43,
     "metadata": {},
     "output_type": "execute_result"
    }
   ],
   "source": [
    "nonoperating_companies.head()"
   ]
  },
  {
   "cell_type": "code",
   "execution_count": 44,
   "id": "d70d6a30",
   "metadata": {},
   "outputs": [],
   "source": [
    "nonoperating_companies.drop(columns='index', axis=1, inplace=True)"
   ]
  },
  {
   "cell_type": "code",
   "execution_count": 45,
   "id": "b1ec04e5",
   "metadata": {},
   "outputs": [
    {
     "data": {
      "text/plain": [
       "operating    3866\n",
       "acquired     1495\n",
       "closed        495\n",
       "ipo           334\n",
       "Name: status, dtype: int64"
      ]
     },
     "execution_count": 45,
     "metadata": {},
     "output_type": "execute_result"
    }
   ],
   "source": [
    "nonoperating_companies.status.value_counts()"
   ]
  },
  {
   "cell_type": "code",
   "execution_count": 46,
   "id": "2c0f1190",
   "metadata": {},
   "outputs": [
    {
     "data": {
      "text/plain": [
       "(6190, 17)"
      ]
     },
     "execution_count": 46,
     "metadata": {},
     "output_type": "execute_result"
    }
   ],
   "source": [
    "nonoperating_companies.shape"
   ]
  },
  {
   "cell_type": "markdown",
   "id": "5428c6a9",
   "metadata": {},
   "source": [
    "Create boolean classifier, 'not_closed' which equals to 1 if companie is aquired/ipo. and equals to 0 if company's status= closed"
   ]
  },
  {
   "cell_type": "code",
   "execution_count": 47,
   "id": "1822b15c",
   "metadata": {},
   "outputs": [],
   "source": [
    "nonoperating_companies['not_closed'] = np.nan"
   ]
  },
  {
   "cell_type": "code",
   "execution_count": 54,
   "id": "a54f8ebe",
   "metadata": {},
   "outputs": [],
   "source": [
    "#fill the column\n",
    "nonoperating_companies.loc[np.logical_or(nonoperating_companies.status == 'closed', nonoperating_companies.\n",
    "    status == 'operating'), 'not_closed'] = 0\n",
    "nonoperating_companies.loc[np.logical_or(\n",
    "    nonoperating_companies.status == 'ipo', nonoperating_companies.status\n",
    "    == 'acquired'), 'not_closed'] = 1"
   ]
  },
  {
   "cell_type": "code",
   "execution_count": 56,
   "id": "3c33a84a",
   "metadata": {},
   "outputs": [
    {
     "data": {
      "text/plain": [
       "0.0    4361\n",
       "1.0    1829\n",
       "Name: not_closed, dtype: int64"
      ]
     },
     "execution_count": 56,
     "metadata": {},
     "output_type": "execute_result"
    }
   ],
   "source": [
    "nonoperating_companies.not_closed.value_counts()"
   ]
  },
  {
   "cell_type": "code",
   "execution_count": 70,
   "id": "44be9bf4",
   "metadata": {},
   "outputs": [
    {
     "data": {
      "text/plain": [
       "Index(['permalink', 'name', 'category_code', 'funding_total_usd', 'status',\n",
       "       'country_code', 'state_code', 'region', 'city', 'funding_rounds',\n",
       "       'founded_at', 'founded_month', 'founded_quarter', 'founded_year',\n",
       "       'first_funding_at', 'last_funding_at', 'last_milestone_at',\n",
       "       'not_closed'],\n",
       "      dtype='object')"
      ]
     },
     "execution_count": 70,
     "metadata": {},
     "output_type": "execute_result"
    }
   ],
   "source": [
    "nonoperating_companies.columns"
   ]
  },
  {
   "cell_type": "markdown",
   "id": "08cbb221",
   "metadata": {},
   "source": [
    "# Rounds"
   ]
  },
  {
   "cell_type": "code",
   "execution_count": 89,
   "id": "30a9a3a3",
   "metadata": {},
   "outputs": [
    {
     "data": {
      "text/plain": [
       "Index(['company_permalink', 'company_name', 'company_category_code',\n",
       "       'company_country_code', 'company_state_code', 'company_region',\n",
       "       'company_city', 'funding_round_type', 'funded_at', 'funded_month',\n",
       "       'funded_quarter', 'funded_year', 'raised_amount_usd'],\n",
       "      dtype='object')"
      ]
     },
     "execution_count": 89,
     "metadata": {},
     "output_type": "execute_result"
    }
   ],
   "source": [
    "rounds.columns"
   ]
  },
  {
   "cell_type": "code",
   "execution_count": 90,
   "id": "f6999c8c",
   "metadata": {},
   "outputs": [
    {
     "data": {
      "text/plain": [
       "(31679, 13)"
      ]
     },
     "execution_count": 90,
     "metadata": {},
     "output_type": "execute_result"
    }
   ],
   "source": [
    "rounds.shape"
   ]
  },
  {
   "cell_type": "code",
   "execution_count": 91,
   "id": "e33d3f2b",
   "metadata": {},
   "outputs": [
    {
     "data": {
      "text/plain": [
       "company_permalink         object\n",
       "company_name              object\n",
       "company_category_code     object\n",
       "company_country_code      object\n",
       "company_state_code        object\n",
       "company_region            object\n",
       "company_city              object\n",
       "funding_round_type        object\n",
       "funded_at                 object\n",
       "funded_month              object\n",
       "funded_quarter            object\n",
       "funded_year                int64\n",
       "raised_amount_usd        float64\n",
       "dtype: object"
      ]
     },
     "execution_count": 91,
     "metadata": {},
     "output_type": "execute_result"
    }
   ],
   "source": [
    "rounds.dtypes"
   ]
  },
  {
   "cell_type": "code",
   "execution_count": 92,
   "id": "46490dc8",
   "metadata": {},
   "outputs": [
    {
     "data": {
      "text/plain": [
       "1205    2013-09-11\n",
       "Name: funded_at, dtype: object"
      ]
     },
     "execution_count": 92,
     "metadata": {},
     "output_type": "execute_result"
    }
   ],
   "source": [
    "rounds['funded_at'].sample(1)"
   ]
  },
  {
   "cell_type": "code",
   "execution_count": 93,
   "id": "15ec2c2c",
   "metadata": {},
   "outputs": [],
   "source": [
    "rounds['funded_at']= pd.to_datetime(rounds['funded_at'], format=\"%Y-%m-%d\")"
   ]
  },
  {
   "cell_type": "markdown",
   "id": "114cceca",
   "metadata": {},
   "source": [
    "# Feature Engineering"
   ]
  },
  {
   "cell_type": "markdown",
   "id": "0b08aadb",
   "metadata": {},
   "source": [
    "Drop rounds that doesn'thave a corresponding row in Nonprofit Companies dataframe"
   ]
  },
  {
   "cell_type": "code",
   "execution_count": 94,
   "id": "7e6bdcd9",
   "metadata": {},
   "outputs": [],
   "source": [
    "nonprofit_names= nonoperating_companies['permalink']"
   ]
  },
  {
   "cell_type": "code",
   "execution_count": 95,
   "id": "383f0d9b",
   "metadata": {},
   "outputs": [
    {
     "data": {
      "text/plain": [
       "6190"
      ]
     },
     "execution_count": 95,
     "metadata": {},
     "output_type": "execute_result"
    }
   ],
   "source": [
    "len(nonprofit_names)"
   ]
  },
  {
   "cell_type": "code",
   "execution_count": 96,
   "id": "9f4715f0",
   "metadata": {},
   "outputs": [],
   "source": [
    "rounds_c =rounds[~rounds['company_permalink'].isin(nonprofit_names)]"
   ]
  },
  {
   "cell_type": "code",
   "execution_count": 97,
   "id": "488f9f6d",
   "metadata": {},
   "outputs": [
    {
     "data": {
      "text/plain": [
       "(21178, 13)"
      ]
     },
     "execution_count": 97,
     "metadata": {},
     "output_type": "execute_result"
    }
   ],
   "source": [
    "rounds_c.shape"
   ]
  },
  {
   "cell_type": "markdown",
   "id": "3edede35",
   "metadata": {},
   "source": [
    "**Average Time between Rounds**"
   ]
  },
  {
   "cell_type": "code",
   "execution_count": 98,
   "id": "0a762bc4",
   "metadata": {},
   "outputs": [
    {
     "name": "stderr",
     "output_type": "stream",
     "text": [
      "<ipython-input-98-1b0af6b6d946>:1: SettingWithCopyWarning: \n",
      "A value is trying to be set on a copy of a slice from a DataFrame\n",
      "\n",
      "See the caveats in the documentation: https://pandas.pydata.org/pandas-docs/stable/user_guide/indexing.html#returning-a-view-versus-a-copy\n",
      "  rounds_c.sort_values(by=['company_name', 'funded_at'],ascending=True,inplace=True)\n"
     ]
    }
   ],
   "source": [
    "rounds_c.sort_values(by=['company_name', 'funded_at'],ascending=True,inplace=True)"
   ]
  },
  {
   "cell_type": "code",
   "execution_count": 99,
   "id": "3036a742",
   "metadata": {
    "scrolled": true
   },
   "outputs": [
    {
     "name": "stderr",
     "output_type": "stream",
     "text": [
      "<ipython-input-99-400690d5facc>:2: SettingWithCopyWarning: \n",
      "A value is trying to be set on a copy of a slice from a DataFrame.\n",
      "Try using .loc[row_indexer,col_indexer] = value instead\n",
      "\n",
      "See the caveats in the documentation: https://pandas.pydata.org/pandas-docs/stable/user_guide/indexing.html#returning-a-view-versus-a-copy\n",
      "  rounds_c['time_between_next_round'] = rounds_c.groupby('company_name').funded_at.diff()\n"
     ]
    }
   ],
   "source": [
    "# Create column for time between rounds\n",
    "rounds_c['time_between_next_round'] = rounds_c.groupby('company_name').funded_at.diff()"
   ]
  },
  {
   "cell_type": "code",
   "execution_count": 100,
   "id": "8a68026c",
   "metadata": {},
   "outputs": [
    {
     "data": {
      "text/html": [
       "<div>\n",
       "<style scoped>\n",
       "    .dataframe tbody tr th:only-of-type {\n",
       "        vertical-align: middle;\n",
       "    }\n",
       "\n",
       "    .dataframe tbody tr th {\n",
       "        vertical-align: top;\n",
       "    }\n",
       "\n",
       "    .dataframe thead th {\n",
       "        text-align: right;\n",
       "    }\n",
       "</style>\n",
       "<table border=\"1\" class=\"dataframe\">\n",
       "  <thead>\n",
       "    <tr style=\"text-align: right;\">\n",
       "      <th></th>\n",
       "      <th>company_permalink</th>\n",
       "      <th>company_name</th>\n",
       "      <th>company_category_code</th>\n",
       "      <th>company_country_code</th>\n",
       "      <th>company_state_code</th>\n",
       "      <th>company_region</th>\n",
       "      <th>company_city</th>\n",
       "      <th>funding_round_type</th>\n",
       "      <th>funded_at</th>\n",
       "      <th>funded_month</th>\n",
       "      <th>funded_quarter</th>\n",
       "      <th>funded_year</th>\n",
       "      <th>raised_amount_usd</th>\n",
       "      <th>time_between_next_round</th>\n",
       "    </tr>\n",
       "  </thead>\n",
       "  <tbody>\n",
       "    <tr>\n",
       "      <th>29202</th>\n",
       "      <td>/company/velocify</td>\n",
       "      <td>Velocify</td>\n",
       "      <td>software</td>\n",
       "      <td>USA</td>\n",
       "      <td>CA</td>\n",
       "      <td>Los Angeles</td>\n",
       "      <td>El Segundo</td>\n",
       "      <td>series-a</td>\n",
       "      <td>2007-10-12</td>\n",
       "      <td>2007-10</td>\n",
       "      <td>2007-Q4</td>\n",
       "      <td>2007</td>\n",
       "      <td>5250000.0</td>\n",
       "      <td>NaT</td>\n",
       "    </tr>\n",
       "    <tr>\n",
       "      <th>9290</th>\n",
       "      <td>/company/everyday-health</td>\n",
       "      <td>Everyday Health</td>\n",
       "      <td>health</td>\n",
       "      <td>USA</td>\n",
       "      <td>NY</td>\n",
       "      <td>New York</td>\n",
       "      <td>New York</td>\n",
       "      <td>series-b</td>\n",
       "      <td>2003-11-01</td>\n",
       "      <td>2003-11</td>\n",
       "      <td>2003-Q4</td>\n",
       "      <td>2003</td>\n",
       "      <td>4508640.0</td>\n",
       "      <td>245 days</td>\n",
       "    </tr>\n",
       "    <tr>\n",
       "      <th>2486</th>\n",
       "      <td>/company/attask</td>\n",
       "      <td>AtTask</td>\n",
       "      <td>enterprise</td>\n",
       "      <td>USA</td>\n",
       "      <td>UT</td>\n",
       "      <td>Salt Lake City</td>\n",
       "      <td>Lehi</td>\n",
       "      <td>venture</td>\n",
       "      <td>2012-10-31</td>\n",
       "      <td>2012-10</td>\n",
       "      <td>2012-Q4</td>\n",
       "      <td>2012</td>\n",
       "      <td>17000000.0</td>\n",
       "      <td>68 days</td>\n",
       "    </tr>\n",
       "    <tr>\n",
       "      <th>13859</th>\n",
       "      <td>/company/isocket</td>\n",
       "      <td>isocket</td>\n",
       "      <td>advertising</td>\n",
       "      <td>USA</td>\n",
       "      <td>CA</td>\n",
       "      <td>SF Bay</td>\n",
       "      <td>Burlingame</td>\n",
       "      <td>series-a</td>\n",
       "      <td>2009-08-27</td>\n",
       "      <td>2009-08</td>\n",
       "      <td>2009-Q3</td>\n",
       "      <td>2009</td>\n",
       "      <td>2104119.0</td>\n",
       "      <td>NaT</td>\n",
       "    </tr>\n",
       "    <tr>\n",
       "      <th>12382</th>\n",
       "      <td>/company/htg-molecular-diagnostics</td>\n",
       "      <td>HTG Molecular Diagnostics</td>\n",
       "      <td>biotech</td>\n",
       "      <td>USA</td>\n",
       "      <td>AZ</td>\n",
       "      <td>Tucson</td>\n",
       "      <td>Tucson</td>\n",
       "      <td>series-c+</td>\n",
       "      <td>2011-06-13</td>\n",
       "      <td>2011-06</td>\n",
       "      <td>2011-Q2</td>\n",
       "      <td>2011</td>\n",
       "      <td>500000.0</td>\n",
       "      <td>109 days</td>\n",
       "    </tr>\n",
       "    <tr>\n",
       "      <th>19153</th>\n",
       "      <td>/company/oncopep</td>\n",
       "      <td>OncoPep</td>\n",
       "      <td>biotech</td>\n",
       "      <td>USA</td>\n",
       "      <td>MA</td>\n",
       "      <td>Boston</td>\n",
       "      <td>North Andover</td>\n",
       "      <td>series-a</td>\n",
       "      <td>2012-02-13</td>\n",
       "      <td>2012-02</td>\n",
       "      <td>2012-Q1</td>\n",
       "      <td>2012</td>\n",
       "      <td>500000.0</td>\n",
       "      <td>304 days</td>\n",
       "    </tr>\n",
       "    <tr>\n",
       "      <th>24501</th>\n",
       "      <td>/company/sigfig</td>\n",
       "      <td>SigFig</td>\n",
       "      <td>finance</td>\n",
       "      <td>USA</td>\n",
       "      <td>CA</td>\n",
       "      <td>SF Bay</td>\n",
       "      <td>San Francisco</td>\n",
       "      <td>series-b</td>\n",
       "      <td>2013-07-02</td>\n",
       "      <td>2013-07</td>\n",
       "      <td>2013-Q3</td>\n",
       "      <td>2013</td>\n",
       "      <td>15000000.0</td>\n",
       "      <td>NaT</td>\n",
       "    </tr>\n",
       "    <tr>\n",
       "      <th>17179</th>\n",
       "      <td>/company/mobileiron</td>\n",
       "      <td>MobileIron</td>\n",
       "      <td>mobile</td>\n",
       "      <td>USA</td>\n",
       "      <td>CA</td>\n",
       "      <td>SF Bay</td>\n",
       "      <td>Mountain View</td>\n",
       "      <td>series-c+</td>\n",
       "      <td>2011-05-27</td>\n",
       "      <td>2011-05</td>\n",
       "      <td>2011-Q2</td>\n",
       "      <td>2011</td>\n",
       "      <td>20000000.0</td>\n",
       "      <td>319 days</td>\n",
       "    </tr>\n",
       "    <tr>\n",
       "      <th>20287</th>\n",
       "      <td>/company/peoplematter</td>\n",
       "      <td>PeopleMatter</td>\n",
       "      <td>enterprise</td>\n",
       "      <td>USA</td>\n",
       "      <td>SC</td>\n",
       "      <td>North Charleston</td>\n",
       "      <td>North Charleston</td>\n",
       "      <td>venture</td>\n",
       "      <td>2013-03-04</td>\n",
       "      <td>2013-03</td>\n",
       "      <td>2013-Q1</td>\n",
       "      <td>2013</td>\n",
       "      <td>19000000.0</td>\n",
       "      <td>372 days</td>\n",
       "    </tr>\n",
       "    <tr>\n",
       "      <th>31340</th>\n",
       "      <td>/company/zenimax</td>\n",
       "      <td>ZeniMax</td>\n",
       "      <td>games_video</td>\n",
       "      <td>USA</td>\n",
       "      <td>MD</td>\n",
       "      <td>Washington DC</td>\n",
       "      <td>Rockville</td>\n",
       "      <td>private-equity</td>\n",
       "      <td>2008-05-30</td>\n",
       "      <td>2008-05</td>\n",
       "      <td>2008-Q2</td>\n",
       "      <td>2008</td>\n",
       "      <td>9900000.0</td>\n",
       "      <td>242 days</td>\n",
       "    </tr>\n",
       "  </tbody>\n",
       "</table>\n",
       "</div>"
      ],
      "text/plain": [
       "                        company_permalink               company_name  \\\n",
       "29202                   /company/velocify                   Velocify   \n",
       "9290             /company/everyday-health            Everyday Health   \n",
       "2486                      /company/attask                     AtTask   \n",
       "13859                    /company/isocket                    isocket   \n",
       "12382  /company/htg-molecular-diagnostics  HTG Molecular Diagnostics   \n",
       "19153                    /company/oncopep                    OncoPep   \n",
       "24501                     /company/sigfig                     SigFig   \n",
       "17179                 /company/mobileiron                 MobileIron   \n",
       "20287               /company/peoplematter               PeopleMatter   \n",
       "31340                    /company/zenimax                    ZeniMax   \n",
       "\n",
       "      company_category_code company_country_code company_state_code  \\\n",
       "29202              software                  USA                 CA   \n",
       "9290                 health                  USA                 NY   \n",
       "2486             enterprise                  USA                 UT   \n",
       "13859           advertising                  USA                 CA   \n",
       "12382               biotech                  USA                 AZ   \n",
       "19153               biotech                  USA                 MA   \n",
       "24501               finance                  USA                 CA   \n",
       "17179                mobile                  USA                 CA   \n",
       "20287            enterprise                  USA                 SC   \n",
       "31340           games_video                  USA                 MD   \n",
       "\n",
       "         company_region      company_city funding_round_type  funded_at  \\\n",
       "29202       Los Angeles        El Segundo           series-a 2007-10-12   \n",
       "9290           New York          New York           series-b 2003-11-01   \n",
       "2486     Salt Lake City              Lehi            venture 2012-10-31   \n",
       "13859            SF Bay        Burlingame           series-a 2009-08-27   \n",
       "12382            Tucson            Tucson          series-c+ 2011-06-13   \n",
       "19153            Boston     North Andover           series-a 2012-02-13   \n",
       "24501            SF Bay     San Francisco           series-b 2013-07-02   \n",
       "17179            SF Bay     Mountain View          series-c+ 2011-05-27   \n",
       "20287  North Charleston  North Charleston            venture 2013-03-04   \n",
       "31340     Washington DC         Rockville     private-equity 2008-05-30   \n",
       "\n",
       "      funded_month funded_quarter  funded_year  raised_amount_usd  \\\n",
       "29202      2007-10        2007-Q4         2007          5250000.0   \n",
       "9290       2003-11        2003-Q4         2003          4508640.0   \n",
       "2486       2012-10        2012-Q4         2012         17000000.0   \n",
       "13859      2009-08        2009-Q3         2009          2104119.0   \n",
       "12382      2011-06        2011-Q2         2011           500000.0   \n",
       "19153      2012-02        2012-Q1         2012           500000.0   \n",
       "24501      2013-07        2013-Q3         2013         15000000.0   \n",
       "17179      2011-05        2011-Q2         2011         20000000.0   \n",
       "20287      2013-03        2013-Q1         2013         19000000.0   \n",
       "31340      2008-05        2008-Q2         2008          9900000.0   \n",
       "\n",
       "      time_between_next_round  \n",
       "29202                     NaT  \n",
       "9290                 245 days  \n",
       "2486                  68 days  \n",
       "13859                     NaT  \n",
       "12382                109 days  \n",
       "19153                304 days  \n",
       "24501                     NaT  \n",
       "17179                319 days  \n",
       "20287                372 days  \n",
       "31340                242 days  "
      ]
     },
     "execution_count": 100,
     "metadata": {},
     "output_type": "execute_result"
    }
   ],
   "source": [
    "rounds_c.sample(10)"
   ]
  },
  {
   "cell_type": "code",
   "execution_count": 105,
   "id": "3de29fa3",
   "metadata": {},
   "outputs": [
    {
     "data": {
      "text/html": [
       "<div>\n",
       "<style scoped>\n",
       "    .dataframe tbody tr th:only-of-type {\n",
       "        vertical-align: middle;\n",
       "    }\n",
       "\n",
       "    .dataframe tbody tr th {\n",
       "        vertical-align: top;\n",
       "    }\n",
       "\n",
       "    .dataframe thead th {\n",
       "        text-align: right;\n",
       "    }\n",
       "</style>\n",
       "<table border=\"1\" class=\"dataframe\">\n",
       "  <thead>\n",
       "    <tr style=\"text-align: right;\">\n",
       "      <th></th>\n",
       "      <th>company_permalink</th>\n",
       "      <th>company_name</th>\n",
       "      <th>company_category_code</th>\n",
       "      <th>company_country_code</th>\n",
       "      <th>company_state_code</th>\n",
       "      <th>company_region</th>\n",
       "      <th>company_city</th>\n",
       "      <th>funding_round_type</th>\n",
       "      <th>funded_at</th>\n",
       "      <th>funded_month</th>\n",
       "      <th>funded_quarter</th>\n",
       "      <th>funded_year</th>\n",
       "      <th>raised_amount_usd</th>\n",
       "      <th>time_between_next_round</th>\n",
       "    </tr>\n",
       "  </thead>\n",
       "  <tbody>\n",
       "    <tr>\n",
       "      <th>13859</th>\n",
       "      <td>/company/isocket</td>\n",
       "      <td>isocket</td>\n",
       "      <td>advertising</td>\n",
       "      <td>USA</td>\n",
       "      <td>CA</td>\n",
       "      <td>SF Bay</td>\n",
       "      <td>Burlingame</td>\n",
       "      <td>series-a</td>\n",
       "      <td>2009-08-27</td>\n",
       "      <td>2009-08</td>\n",
       "      <td>2009-Q3</td>\n",
       "      <td>2009</td>\n",
       "      <td>2104119.0</td>\n",
       "      <td>NaT</td>\n",
       "    </tr>\n",
       "    <tr>\n",
       "      <th>13860</th>\n",
       "      <td>/company/isocket</td>\n",
       "      <td>isocket</td>\n",
       "      <td>advertising</td>\n",
       "      <td>USA</td>\n",
       "      <td>CA</td>\n",
       "      <td>SF Bay</td>\n",
       "      <td>Burlingame</td>\n",
       "      <td>series-a</td>\n",
       "      <td>2011-09-28</td>\n",
       "      <td>2011-09</td>\n",
       "      <td>2011-Q3</td>\n",
       "      <td>2011</td>\n",
       "      <td>NaN</td>\n",
       "      <td>762 days</td>\n",
       "    </tr>\n",
       "    <tr>\n",
       "      <th>13861</th>\n",
       "      <td>/company/isocket</td>\n",
       "      <td>isocket</td>\n",
       "      <td>advertising</td>\n",
       "      <td>USA</td>\n",
       "      <td>CA</td>\n",
       "      <td>SF Bay</td>\n",
       "      <td>Burlingame</td>\n",
       "      <td>series-a</td>\n",
       "      <td>2012-11-01</td>\n",
       "      <td>2012-11</td>\n",
       "      <td>2012-Q4</td>\n",
       "      <td>2012</td>\n",
       "      <td>8000000.0</td>\n",
       "      <td>400 days</td>\n",
       "    </tr>\n",
       "  </tbody>\n",
       "</table>\n",
       "</div>"
      ],
      "text/plain": [
       "      company_permalink company_name company_category_code  \\\n",
       "13859  /company/isocket      isocket           advertising   \n",
       "13860  /company/isocket      isocket           advertising   \n",
       "13861  /company/isocket      isocket           advertising   \n",
       "\n",
       "      company_country_code company_state_code company_region company_city  \\\n",
       "13859                  USA                 CA         SF Bay   Burlingame   \n",
       "13860                  USA                 CA         SF Bay   Burlingame   \n",
       "13861                  USA                 CA         SF Bay   Burlingame   \n",
       "\n",
       "      funding_round_type  funded_at funded_month funded_quarter  funded_year  \\\n",
       "13859           series-a 2009-08-27      2009-08        2009-Q3         2009   \n",
       "13860           series-a 2011-09-28      2011-09        2011-Q3         2011   \n",
       "13861           series-a 2012-11-01      2012-11        2012-Q4         2012   \n",
       "\n",
       "       raised_amount_usd time_between_next_round  \n",
       "13859          2104119.0                     NaT  \n",
       "13860                NaN                762 days  \n",
       "13861          8000000.0                400 days  "
      ]
     },
     "execution_count": 105,
     "metadata": {},
     "output_type": "execute_result"
    }
   ],
   "source": [
    "rounds_c[rounds_c['company_permalink'] == '/company/isocket']"
   ]
  },
  {
   "cell_type": "markdown",
   "id": "50380a8d",
   "metadata": {},
   "source": [
    "### Feature: Catogries"
   ]
  },
  {
   "cell_type": "code",
   "execution_count": 108,
   "id": "76055101",
   "metadata": {},
   "outputs": [
    {
     "data": {
      "text/plain": [
       "Index(['permalink', 'name', 'category_code', 'funding_total_usd', 'status',\n",
       "       'country_code', 'state_code', 'region', 'city', 'funding_rounds',\n",
       "       'founded_at', 'founded_month', 'founded_quarter', 'founded_year',\n",
       "       'first_funding_at', 'last_funding_at', 'last_milestone_at',\n",
       "       'not_closed'],\n",
       "      dtype='object')"
      ]
     },
     "execution_count": 108,
     "metadata": {},
     "output_type": "execute_result"
    }
   ],
   "source": [
    "nonoperating_companies.columns"
   ]
  },
  {
   "cell_type": "code",
   "execution_count": 109,
   "id": "ebbe0cf5",
   "metadata": {},
   "outputs": [],
   "source": [
    "# Fill empty category with 'unknown'\n",
    "nonoperating_companies.category_code.fillna('unknown', inplace=True)\n",
    "# Create column with list of categories\n",
    "nonoperating_companies['cat_list'] = nonoperating_companies.category_code.apply(str.split,\n",
    "                                                                sep='|')"
   ]
  },
  {
   "cell_type": "code",
   "execution_count": 113,
   "id": "e58fbd2a",
   "metadata": {},
   "outputs": [
    {
     "data": {
      "image/png": "[encoded data removed]",
      "text/plain": [
       "<Figure size 648x360 with 1 Axes>"
      ]
     },
     "metadata": {
      "needs_background": "light"
     },
     "output_type": "display_data"
    }
   ],
   "source": [
    "from collections import Counter\n",
    "import matplotlib.pyplot as plt\n",
    "import seaborn as sns\n",
    "\n",
    "# Create list of category lists\n",
    "categories = list(nonoperating_companies.cat_list)\n",
    "# Flatten the list\n",
    "flat_categories = [cat for sublist in categories for cat in sublist]\n",
    "# Count occurences of each\n",
    "category_counts = Counter(flat_categories).most_common()\n",
    "# Look at the distribution\n",
    "plt.figure(figsize=(9, 5))\n",
    "plt.bar([x[0] for x in category_counts[0:50]],\n",
    "        [x[1] for x in category_counts[0:50]],\n",
    "        width=0.8)\n",
    "plt.xticks(rotation=90)\n",
    "plt.title('50 Most Commonly Occuring Categories')\n",
    "sns.despine()"
   ]
  },
  {
   "cell_type": "markdown",
   "id": "58342432",
   "metadata": {},
   "source": [
    "### Feature: Catogries\n"
   ]
  },
  {
   "cell_type": "code",
   "execution_count": 116,
   "id": "c4b1071a",
   "metadata": {},
   "outputs": [],
   "source": [
    "#fill misiing values\n",
    "nonoperating_companies.country_code.fillna('unknown', inplace=True)"
   ]
  },
  {
   "cell_type": "code",
   "execution_count": 118,
   "id": "8f0baf08",
   "metadata": {},
   "outputs": [
    {
     "data": {
      "text/plain": [
       "Text(0.5, 1.0, 'Distribution of Top 10 States')"
      ]
     },
     "execution_count": 118,
     "metadata": {},
     "output_type": "execute_result"
    },
    {
     "data": {
      "image/png": "[encoded data removed]",
      "text/plain": [
       "<Figure size 432x288 with 1 Axes>"
      ]
     },
     "metadata": {
      "needs_background": "light"
     },
     "output_type": "display_data"
    }
   ],
   "source": [
    "# Look at distribution\n",
    "country_dist = nonoperating_companies.groupby(\n",
    "    'state_code').size().sort_values(ascending=False)\n",
    "plt.bar(country_dist[0:10].index, height=country_dist[0:10].values)\n",
    "plt.xticks(rotation=90)\n",
    "sns.despine()\n",
    "plt.title('Distribution of Top 10 States')"
   ]
  },
  {
   "cell_type": "code",
   "execution_count": null,
   "id": "51c1cf8a",
   "metadata": {},
   "outputs": [],
   "source": []
  },
  {
   "cell_type": "markdown",
   "id": "0c24baea",
   "metadata": {},
   "source": [
    "# --------------------------------------"
   ]
  },
  {
   "cell_type": "code",
   "execution_count": 114,
   "id": "dd6667fc",
   "metadata": {},
   "outputs": [
    {
     "data": {
      "text/plain": [
       "Index(['company_permalink', 'company_name', 'company_category_code',\n",
       "       'company_country_code', 'company_state_code', 'company_region',\n",
       "       'company_city', 'acquirer_permalink', 'acquirer_name',\n",
       "       'acquirer_category_code', 'acquirer_country_code',\n",
       "       'acquirer_state_code', 'acquirer_region', 'acquirer_city',\n",
       "       'acquired_at', 'acquired_month', 'acquired_quarter', 'acquired_year',\n",
       "       'price_amount', 'price_currency_code'],\n",
       "      dtype='object')"
      ]
     },
     "execution_count": 114,
     "metadata": {},
     "output_type": "execute_result"
    }
   ],
   "source": [
    "acquisitions.columns"
   ]
  },
  {
   "cell_type": "code",
   "execution_count": 115,
   "id": "17d3a90d",
   "metadata": {},
   "outputs": [
    {
     "data": {
      "text/plain": [
       "Index(['company_permalink', 'company_name', 'company_category_code',\n",
       "       'company_country_code', 'company_state_code', 'company_region',\n",
       "       'company_city', 'investor_permalink', 'investor_name',\n",
       "       'investor_category_code', 'investor_country_code',\n",
       "       'investor_state_code', 'investor_region', 'investor_city',\n",
       "       'funding_round_type', 'funded_at', 'funded_month', 'funded_quarter',\n",
       "       'funded_year', 'raised_amount_usd'],\n",
       "      dtype='object')"
      ]
     },
     "execution_count": 115,
     "metadata": {},
     "output_type": "execute_result"
    }
   ],
   "source": [
    "investments.columns"
   ]
  },
  {
   "cell_type": "code",
   "execution_count": null,
   "id": "5f99c9ad",
   "metadata": {},
   "outputs": [],
   "source": [
    "companies['state_code'].unique()"
   ]
  },
  {
   "cell_type": "code",
   "execution_count": null,
   "id": "d6c32abf",
   "metadata": {},
   "outputs": [],
   "source": [
    "len(companies['state_code'].unique())"
   ]
  },
  {
   "cell_type": "code",
   "execution_count": null,
   "id": "fe21faab",
   "metadata": {},
   "outputs": [],
   "source": [
    "\n",
    "acquisitions['company_state_code'].unique()"
   ]
  },
  {
   "cell_type": "code",
   "execution_count": null,
   "id": "fbe88d1d",
   "metadata": {},
   "outputs": [],
   "source": [
    "len(acquisitions['company_state_code'].unique())"
   ]
  },
  {
   "cell_type": "code",
   "execution_count": null,
   "id": "117a0112",
   "metadata": {},
   "outputs": [],
   "source": [
    "companies['permalink'][500:520]"
   ]
  },
  {
   "cell_type": "code",
   "execution_count": null,
   "id": "14071187",
   "metadata": {},
   "outputs": [],
   "source": [
    "companies['name'][500:520]"
   ]
  },
  {
   "cell_type": "code",
   "execution_count": 120,
   "id": "dd36147a",
   "metadata": {},
   "outputs": [],
   "source": [
    "nonoperating_companies.to_csv('companies.csv')"
   ]
  },
  {
   "cell_type": "code",
   "execution_count": null,
   "id": "374b12d9",
   "metadata": {},
   "outputs": [],
   "source": []
  }
 ],
 "metadata": {
  "kernelspec": {
   "display_name": "Python 3",
   "language": "python",
   "name": "python3"
  },
  "language_info": {
   "codemirror_mode": {
    "name": "ipython",
    "version": 3
   },
   "file_extension": ".py",
   "mimetype": "text/x-python",
   "name": "python",
   "nbconvert_exporter": "python",
   "pygments_lexer": "ipython3",
   "version": "3.8.8"
  }
 },
 "nbformat": 4,
 "nbformat_minor": 5
}
