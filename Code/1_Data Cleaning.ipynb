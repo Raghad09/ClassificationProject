{
 "cells": [
  {
   "cell_type": "markdown",
   "id": "4e18d1a3",
   "metadata": {},
   "source": [
    "# Data Cleaning"
   ]
  },
  {
   "cell_type": "markdown",
   "id": "3d0687d9",
   "metadata": {},
   "source": [
    "this notebook contains data preprocessing techniques "
   ]
  },
  {
   "cell_type": "markdown",
   "id": "63090c50",
   "metadata": {},
   "source": [
    "### Data Acquisition"
   ]
  },
  {
   "cell_type": "code",
   "execution_count": 92,
   "id": "5fb8a06d",
   "metadata": {},
   "outputs": [
    {
     "data": {
      "text/html": [
       "<div>\n",
       "<style scoped>\n",
       "    .dataframe tbody tr th:only-of-type {\n",
       "        vertical-align: middle;\n",
       "    }\n",
       "\n",
       "    .dataframe tbody tr th {\n",
       "        vertical-align: top;\n",
       "    }\n",
       "\n",
       "    .dataframe thead th {\n",
       "        text-align: right;\n",
       "    }\n",
       "</style>\n",
       "<table border=\"1\" class=\"dataframe\">\n",
       "  <thead>\n",
       "    <tr style=\"text-align: right;\">\n",
       "      <th></th>\n",
       "      <th>company_permalink</th>\n",
       "      <th>company_name</th>\n",
       "      <th>company_category_code</th>\n",
       "      <th>company_country_code</th>\n",
       "      <th>company_state_code</th>\n",
       "      <th>company_region</th>\n",
       "      <th>company_city</th>\n",
       "      <th>funding_round_type</th>\n",
       "      <th>funded_at</th>\n",
       "      <th>funded_month</th>\n",
       "      <th>funded_quarter</th>\n",
       "      <th>funded_year</th>\n",
       "      <th>raised_amount_usd</th>\n",
       "    </tr>\n",
       "  </thead>\n",
       "  <tbody>\n",
       "    <tr>\n",
       "      <th>20803</th>\n",
       "      <td>/company/plantsense</td>\n",
       "      <td>PlantSense</td>\n",
       "      <td>web</td>\n",
       "      <td>USA</td>\n",
       "      <td>CA</td>\n",
       "      <td>SF Bay</td>\n",
       "      <td>San Francisco</td>\n",
       "      <td>venture</td>\n",
       "      <td>2010-07-19</td>\n",
       "      <td>2010-07</td>\n",
       "      <td>2010-Q3</td>\n",
       "      <td>2010</td>\n",
       "      <td>2500000.0</td>\n",
       "    </tr>\n",
       "    <tr>\n",
       "      <th>17933</th>\n",
       "      <td>/company/nanosteel</td>\n",
       "      <td>NanoSteel</td>\n",
       "      <td>nanotech</td>\n",
       "      <td>USA</td>\n",
       "      <td>RI</td>\n",
       "      <td>Providence</td>\n",
       "      <td>Providence</td>\n",
       "      <td>venture</td>\n",
       "      <td>2011-10-18</td>\n",
       "      <td>2011-10</td>\n",
       "      <td>2011-Q4</td>\n",
       "      <td>2011</td>\n",
       "      <td>17000000.0</td>\n",
       "    </tr>\n",
       "    <tr>\n",
       "      <th>1911</th>\n",
       "      <td>/company/appistry-inc</td>\n",
       "      <td>Appistry</td>\n",
       "      <td>analytics</td>\n",
       "      <td>USA</td>\n",
       "      <td>MO</td>\n",
       "      <td>Saint Louis</td>\n",
       "      <td>St. Louis</td>\n",
       "      <td>series-c+</td>\n",
       "      <td>2009-01-01</td>\n",
       "      <td>2009-01</td>\n",
       "      <td>2009-Q1</td>\n",
       "      <td>2009</td>\n",
       "      <td>3000000.0</td>\n",
       "    </tr>\n",
       "    <tr>\n",
       "      <th>11404</th>\n",
       "      <td>/company/gr8erminds</td>\n",
       "      <td>Gr8erMinds</td>\n",
       "      <td>software</td>\n",
       "      <td>USA</td>\n",
       "      <td>IN</td>\n",
       "      <td>Indianapolis</td>\n",
       "      <td>Indianapolis</td>\n",
       "      <td>angel</td>\n",
       "      <td>2011-07-06</td>\n",
       "      <td>2011-07</td>\n",
       "      <td>2011-Q3</td>\n",
       "      <td>2011</td>\n",
       "      <td>4000.0</td>\n",
       "    </tr>\n",
       "    <tr>\n",
       "      <th>5094</th>\n",
       "      <td>/company/ce-interactive</td>\n",
       "      <td>CE Interactive</td>\n",
       "      <td>software</td>\n",
       "      <td>USA</td>\n",
       "      <td>NY</td>\n",
       "      <td>New York</td>\n",
       "      <td>New York</td>\n",
       "      <td>angel</td>\n",
       "      <td>2005-01-01</td>\n",
       "      <td>2005-01</td>\n",
       "      <td>2005-Q1</td>\n",
       "      <td>2005</td>\n",
       "      <td>NaN</td>\n",
       "    </tr>\n",
       "  </tbody>\n",
       "</table>\n",
       "</div>"
      ],
      "text/plain": [
       "             company_permalink    company_name company_category_code  \\\n",
       "20803      /company/plantsense      PlantSense                   web   \n",
       "17933       /company/nanosteel       NanoSteel              nanotech   \n",
       "1911     /company/appistry-inc        Appistry             analytics   \n",
       "11404      /company/gr8erminds      Gr8erMinds              software   \n",
       "5094   /company/ce-interactive  CE Interactive              software   \n",
       "\n",
       "      company_country_code company_state_code company_region   company_city  \\\n",
       "20803                  USA                 CA         SF Bay  San Francisco   \n",
       "17933                  USA                 RI     Providence     Providence   \n",
       "1911                   USA                 MO    Saint Louis      St. Louis   \n",
       "11404                  USA                 IN   Indianapolis   Indianapolis   \n",
       "5094                   USA                 NY       New York       New York   \n",
       "\n",
       "      funding_round_type   funded_at funded_month funded_quarter  funded_year  \\\n",
       "20803            venture  2010-07-19      2010-07        2010-Q3         2010   \n",
       "17933            venture  2011-10-18      2011-10        2011-Q4         2011   \n",
       "1911           series-c+  2009-01-01      2009-01        2009-Q1         2009   \n",
       "11404              angel  2011-07-06      2011-07        2011-Q3         2011   \n",
       "5094               angel  2005-01-01      2005-01        2005-Q1         2005   \n",
       "\n",
       "       raised_amount_usd  \n",
       "20803          2500000.0  \n",
       "17933         17000000.0  \n",
       "1911           3000000.0  \n",
       "11404             4000.0  \n",
       "5094                 NaN  "
      ]
     },
     "execution_count": 92,
     "metadata": {},
     "output_type": "execute_result"
    }
   ],
   "source": [
    "rounds.sample(5)"
   ]
  },
  {
   "cell_type": "markdown",
   "id": "8a7fa005",
   "metadata": {},
   "source": [
    "Obtain 2013 snapshot data from [crunchbase.com](https://data.crunchbase.com/docs/2013-snapshot)."
   ]
  },
  {
   "cell_type": "code",
   "execution_count": 88,
   "id": "6ef63366",
   "metadata": {},
   "outputs": [],
   "source": [
    "import pandas as pd\n",
    "import numpy as np"
   ]
  },
  {
   "cell_type": "code",
   "execution_count": 89,
   "id": "eaa9e092",
   "metadata": {},
   "outputs": [
    {
     "name": "stderr",
     "output_type": "stream",
     "text": [
      "C:\\Users\\hp\\ooo\\lib\\site-packages\\IPython\\core\\interactiveshell.py:3165: DtypeWarning: Columns (9) have mixed types.Specify dtype option on import or set low_memory=False.\n",
      "  has_raised = await self.run_ast_nodes(code_ast.body, cell_name,\n"
     ]
    }
   ],
   "source": [
    "#read obtained data\n",
    "companies = pd.read_csv('data/crunchbase-companies.csv')\n",
    "acquisitions = pd.read_csv('data/crunchbase-acquisitions.csv')\n",
    "investments = pd.read_csv('data/crunchbase-investments.csv')\n",
    "rounds = pd.read_csv('data/crunchbase-rounds.csv')"
   ]
  },
  {
   "cell_type": "markdown",
   "id": "4ee80514",
   "metadata": {},
   "source": [
    "### Data Cleaning and Exploring"
   ]
  },
  {
   "cell_type": "code",
   "execution_count": 90,
   "id": "94eda1c9",
   "metadata": {},
   "outputs": [
    {
     "data": {
      "text/plain": [
       "17"
      ]
     },
     "execution_count": 90,
     "metadata": {},
     "output_type": "execute_result"
    }
   ],
   "source": [
    "companies.columns"
   ]
  },
  {
   "cell_type": "code",
   "execution_count": 4,
   "id": "b3265bc7",
   "metadata": {},
   "outputs": [
    {
     "data": {
      "text/plain": [
       "(17727, 17)"
      ]
     },
     "execution_count": 4,
     "metadata": {},
     "output_type": "execute_result"
    }
   ],
   "source": [
    "companies.shape"
   ]
  },
  {
   "cell_type": "markdown",
   "id": "9961a0b6",
   "metadata": {},
   "source": [
    "Check null values based on columns"
   ]
  },
  {
   "cell_type": "code",
   "execution_count": 5,
   "id": "d837c3a3",
   "metadata": {},
   "outputs": [
    {
     "data": {
      "text/plain": [
       "permalink               0\n",
       "name                    0\n",
       "category_code         399\n",
       "funding_total_usd    1505\n",
       "status                  0\n",
       "country_code            0\n",
       "state_code            247\n",
       "region                  0\n",
       "city                  265\n",
       "funding_rounds          0\n",
       "founded_at           4051\n",
       "founded_month        4051\n",
       "founded_quarter      4051\n",
       "founded_year         4051\n",
       "first_funding_at      105\n",
       "last_funding_at       105\n",
       "last_milestone_at    7199\n",
       "dtype: int64"
      ]
     },
     "execution_count": 5,
     "metadata": {},
     "output_type": "execute_result"
    }
   ],
   "source": [
    "companies.isnull().sum()"
   ]
  },
  {
   "cell_type": "markdown",
   "id": "5571d42b",
   "metadata": {},
   "source": [
    "**Drop** companies with no funding_total_usd or first_funding_at or category_code columns"
   ]
  },
  {
   "cell_type": "code",
   "execution_count": 6,
   "id": "24d9393b",
   "metadata": {},
   "outputs": [
    {
     "data": {
      "text/plain": [
       "(17622, 17)"
      ]
     },
     "execution_count": 6,
     "metadata": {},
     "output_type": "execute_result"
    }
   ],
   "source": [
    "companies = companies.dropna(subset=['first_funding_at'])\n",
    "companies.reset_index(drop=True, inplace=True)\n",
    "companies.shape"
   ]
  },
  {
   "cell_type": "code",
   "execution_count": 7,
   "id": "87e7b946",
   "metadata": {},
   "outputs": [
    {
     "data": {
      "text/plain": [
       "(17224, 17)"
      ]
     },
     "execution_count": 7,
     "metadata": {},
     "output_type": "execute_result"
    }
   ],
   "source": [
    "companies = companies.dropna(subset=['category_code'])\n",
    "companies.reset_index(drop=True, inplace=True)\n",
    "companies.shape"
   ]
  },
  {
   "cell_type": "code",
   "execution_count": 8,
   "id": "8c8e790d",
   "metadata": {},
   "outputs": [
    {
     "data": {
      "text/plain": [
       "(15827, 17)"
      ]
     },
     "execution_count": 8,
     "metadata": {},
     "output_type": "execute_result"
    }
   ],
   "source": [
    "companies = companies.dropna(subset=['funding_total_usd'])\n",
    "companies.reset_index(drop=True, inplace=True)\n",
    "companies.shape"
   ]
  },
  {
   "cell_type": "markdown",
   "id": "9f58d9c8",
   "metadata": {},
   "source": [
    "Change the data types"
   ]
  },
  {
   "cell_type": "code",
   "execution_count": 9,
   "id": "3acfc90a",
   "metadata": {},
   "outputs": [
    {
     "data": {
      "text/plain": [
       "permalink             object\n",
       "name                  object\n",
       "category_code         object\n",
       "funding_total_usd     object\n",
       "status                object\n",
       "country_code          object\n",
       "state_code            object\n",
       "region                object\n",
       "city                  object\n",
       "funding_rounds         int64\n",
       "founded_at            object\n",
       "founded_month         object\n",
       "founded_quarter       object\n",
       "founded_year         float64\n",
       "first_funding_at      object\n",
       "last_funding_at       object\n",
       "last_milestone_at     object\n",
       "dtype: object"
      ]
     },
     "execution_count": 9,
     "metadata": {},
     "output_type": "execute_result"
    }
   ],
   "source": [
    "companies.dtypes"
   ]
  },
  {
   "cell_type": "markdown",
   "id": "13e94bd5",
   "metadata": {},
   "source": [
    "before converting Funding_total_usd we should find noisy data. data that can't be converted to numeric values"
   ]
  },
  {
   "cell_type": "code",
   "execution_count": 10,
   "id": "6588287e",
   "metadata": {},
   "outputs": [],
   "source": [
    "x=pd.to_numeric(companies['funding_total_usd'], errors='coerce').isnull()"
   ]
  },
  {
   "cell_type": "code",
   "execution_count": 11,
   "id": "edeaa76f",
   "metadata": {},
   "outputs": [
    {
     "data": {
      "text/plain": [
       "6866    True\n",
       "6869    True\n",
       "7099    True\n",
       "7202    True\n",
       "7309    True\n",
       "7476    True\n",
       "8101    True\n",
       "8124    True\n",
       "8170    True\n",
       "8172    True\n",
       "9672    True\n",
       "9700    True\n",
       "Name: funding_total_usd, dtype: bool"
      ]
     },
     "execution_count": 11,
     "metadata": {},
     "output_type": "execute_result"
    }
   ],
   "source": [
    "x= x.loc[lambda x : x!=False]\n",
    "x"
   ]
  },
  {
   "cell_type": "code",
   "execution_count": 12,
   "id": "fed4fab9",
   "metadata": {},
   "outputs": [
    {
     "data": {
      "text/plain": [
       "'5/18/27'"
      ]
     },
     "execution_count": 12,
     "metadata": {},
     "output_type": "execute_result"
    }
   ],
   "source": [
    "#example of noiy data\n",
    "companies['funding_total_usd'].iloc[6866]"
   ]
  },
  {
   "cell_type": "markdown",
   "id": "0cf96c85",
   "metadata": {},
   "source": [
    "drop noisy data"
   ]
  },
  {
   "cell_type": "code",
   "execution_count": 13,
   "id": "d00dcc3d",
   "metadata": {},
   "outputs": [
    {
     "data": {
      "text/plain": [
       "(12,)"
      ]
     },
     "execution_count": 13,
     "metadata": {},
     "output_type": "execute_result"
    }
   ],
   "source": [
    "x.shape"
   ]
  },
  {
   "cell_type": "code",
   "execution_count": 14,
   "id": "fac605d0",
   "metadata": {},
   "outputs": [],
   "source": [
    "indexes= x.index.tolist()"
   ]
  },
  {
   "cell_type": "code",
   "execution_count": 15,
   "id": "c9b283e2",
   "metadata": {},
   "outputs": [],
   "source": [
    "companies.drop(companies.index[indexes], inplace=True)"
   ]
  },
  {
   "cell_type": "markdown",
   "id": "cc997f5c",
   "metadata": {},
   "source": [
    "now that 'funding_total_usd' is cleaned, we can convert it to integer"
   ]
  },
  {
   "cell_type": "code",
   "execution_count": 16,
   "id": "cf6451c7",
   "metadata": {},
   "outputs": [],
   "source": [
    "companies['funding_total_usd']=  companies['funding_total_usd'].astype(str).astype(float)"
   ]
  },
  {
   "cell_type": "markdown",
   "id": "6279933e",
   "metadata": {},
   "source": [
    "Convert (first_funding_at,last_funding_at) to date data type"
   ]
  },
  {
   "cell_type": "code",
   "execution_count": 17,
   "id": "fa057fa0",
   "metadata": {},
   "outputs": [
    {
     "data": {
      "text/plain": [
       "'2010-10-25'"
      ]
     },
     "execution_count": 17,
     "metadata": {},
     "output_type": "execute_result"
    }
   ],
   "source": [
    "companies['first_funding_at'][30]"
   ]
  },
  {
   "cell_type": "code",
   "execution_count": 18,
   "id": "e984f14e",
   "metadata": {},
   "outputs": [],
   "source": [
    "import datetime as dt\n",
    "companies['first_funding_at']= pd.to_datetime(companies['first_funding_at'], format=\"%Y-%m-%d\").dt.date"
   ]
  },
  {
   "cell_type": "code",
   "execution_count": 19,
   "id": "8891b107",
   "metadata": {},
   "outputs": [],
   "source": [
    "\n",
    "companies['last_funding_at']= pd.to_datetime(companies['last_funding_at'],format=\"%Y-%m-%d\").dt.date"
   ]
  },
  {
   "cell_type": "code",
   "execution_count": 20,
   "id": "5e030069",
   "metadata": {},
   "outputs": [],
   "source": [
    "companies['last_milestone_at']= pd.to_datetime(companies['last_milestone_at'],format=\"%Y-%m-%d\").dt.date"
   ]
  },
  {
   "cell_type": "code",
   "execution_count": 21,
   "id": "8360583f",
   "metadata": {},
   "outputs": [],
   "source": [
    "companies['founded_at']= pd.to_datetime(companies['founded_at'],format=\"%Y-%m-%d\").dt.date"
   ]
  },
  {
   "cell_type": "code",
   "execution_count": 22,
   "id": "7ef8724b",
   "metadata": {},
   "outputs": [
    {
     "name": "stdout",
     "output_type": "stream",
     "text": [
      "<class 'pandas.core.frame.DataFrame'>\n",
      "Int64Index: 15815 entries, 0 to 15826\n",
      "Data columns (total 17 columns):\n",
      " #   Column             Non-Null Count  Dtype  \n",
      "---  ------             --------------  -----  \n",
      " 0   permalink          15815 non-null  object \n",
      " 1   name               15815 non-null  object \n",
      " 2   category_code      15815 non-null  object \n",
      " 3   funding_total_usd  15815 non-null  float64\n",
      " 4   status             15815 non-null  object \n",
      " 5   country_code       15815 non-null  object \n",
      " 6   state_code         15608 non-null  object \n",
      " 7   region             15815 non-null  object \n",
      " 8   city               15612 non-null  object \n",
      " 9   funding_rounds     15815 non-null  int64  \n",
      " 10  founded_at         12330 non-null  object \n",
      " 11  founded_month      12330 non-null  object \n",
      " 12  founded_quarter    12330 non-null  object \n",
      " 13  founded_year       12330 non-null  float64\n",
      " 14  first_funding_at   15815 non-null  object \n",
      " 15  last_funding_at    15815 non-null  object \n",
      " 16  last_milestone_at  9501 non-null   object \n",
      "dtypes: float64(2), int64(1), object(14)\n",
      "memory usage: 2.7+ MB\n"
     ]
    }
   ],
   "source": [
    "companies.info()"
   ]
  },
  {
   "cell_type": "markdown",
   "id": "80192d09",
   "metadata": {},
   "source": [
    "Explore the 'Status' column"
   ]
  },
  {
   "cell_type": "code",
   "execution_count": 23,
   "id": "9b7ea440",
   "metadata": {},
   "outputs": [
    {
     "data": {
      "text/plain": [
       "operating    13491\n",
       "acquired      1495\n",
       "closed         495\n",
       "ipo            334\n",
       "Name: status, dtype: int64"
      ]
     },
     "execution_count": 23,
     "metadata": {},
     "output_type": "execute_result"
    }
   ],
   "source": [
    "companies.status.value_counts()\n"
   ]
  },
  {
   "cell_type": "code",
   "execution_count": 24,
   "id": "a1ab4af4",
   "metadata": {
    "scrolled": true
   },
   "outputs": [
    {
     "data": {
      "text/html": [
       "<div>\n",
       "<style scoped>\n",
       "    .dataframe tbody tr th:only-of-type {\n",
       "        vertical-align: middle;\n",
       "    }\n",
       "\n",
       "    .dataframe tbody tr th {\n",
       "        vertical-align: top;\n",
       "    }\n",
       "\n",
       "    .dataframe thead th {\n",
       "        text-align: right;\n",
       "    }\n",
       "</style>\n",
       "<table border=\"1\" class=\"dataframe\">\n",
       "  <thead>\n",
       "    <tr style=\"text-align: right;\">\n",
       "      <th></th>\n",
       "      <th>permalink</th>\n",
       "      <th>name</th>\n",
       "      <th>category_code</th>\n",
       "      <th>funding_total_usd</th>\n",
       "      <th>status</th>\n",
       "      <th>country_code</th>\n",
       "      <th>state_code</th>\n",
       "      <th>region</th>\n",
       "      <th>city</th>\n",
       "      <th>funding_rounds</th>\n",
       "      <th>founded_at</th>\n",
       "      <th>founded_month</th>\n",
       "      <th>founded_quarter</th>\n",
       "      <th>founded_year</th>\n",
       "      <th>first_funding_at</th>\n",
       "      <th>last_funding_at</th>\n",
       "      <th>last_milestone_at</th>\n",
       "    </tr>\n",
       "  </thead>\n",
       "  <tbody>\n",
       "    <tr>\n",
       "      <th>0</th>\n",
       "      <td>/company/waywire</td>\n",
       "      <td>#waywire</td>\n",
       "      <td>news</td>\n",
       "      <td>1750000.0</td>\n",
       "      <td>operating</td>\n",
       "      <td>USA</td>\n",
       "      <td>NY</td>\n",
       "      <td>New York</td>\n",
       "      <td>New York</td>\n",
       "      <td>1</td>\n",
       "      <td>2012-06-01</td>\n",
       "      <td>2012-06</td>\n",
       "      <td>2012-Q2</td>\n",
       "      <td>2012.0</td>\n",
       "      <td>2012-06-30</td>\n",
       "      <td>2012-06-30</td>\n",
       "      <td>2013-09-06</td>\n",
       "    </tr>\n",
       "    <tr>\n",
       "      <th>1</th>\n",
       "      <td>/company/n-plusn</td>\n",
       "      <td>#NAME?</td>\n",
       "      <td>software</td>\n",
       "      <td>600000.0</td>\n",
       "      <td>operating</td>\n",
       "      <td>USA</td>\n",
       "      <td>NY</td>\n",
       "      <td>New York</td>\n",
       "      <td>New York</td>\n",
       "      <td>1</td>\n",
       "      <td>2012-01-01</td>\n",
       "      <td>2012-01</td>\n",
       "      <td>2012-Q1</td>\n",
       "      <td>2012.0</td>\n",
       "      <td>2012-08-29</td>\n",
       "      <td>2012-08-29</td>\n",
       "      <td>NaT</td>\n",
       "    </tr>\n",
       "    <tr>\n",
       "      <th>4</th>\n",
       "      <td>/company/10-20-media</td>\n",
       "      <td>10-20 Media</td>\n",
       "      <td>ecommerce</td>\n",
       "      <td>750000.0</td>\n",
       "      <td>operating</td>\n",
       "      <td>USA</td>\n",
       "      <td>MD</td>\n",
       "      <td>Washington DC</td>\n",
       "      <td>Woodbine</td>\n",
       "      <td>2</td>\n",
       "      <td>2001-01-01</td>\n",
       "      <td>2001-01</td>\n",
       "      <td>2001-Q1</td>\n",
       "      <td>2001.0</td>\n",
       "      <td>2010-03-30</td>\n",
       "      <td>2011-12-28</td>\n",
       "      <td>NaT</td>\n",
       "    </tr>\n",
       "    <tr>\n",
       "      <th>8</th>\n",
       "      <td>/company/1010data</td>\n",
       "      <td>1010data</td>\n",
       "      <td>software</td>\n",
       "      <td>35000000.0</td>\n",
       "      <td>operating</td>\n",
       "      <td>USA</td>\n",
       "      <td>NY</td>\n",
       "      <td>New York</td>\n",
       "      <td>New York</td>\n",
       "      <td>1</td>\n",
       "      <td>2000-01-01</td>\n",
       "      <td>2000-01</td>\n",
       "      <td>2000-Q1</td>\n",
       "      <td>2000.0</td>\n",
       "      <td>2010-03-08</td>\n",
       "      <td>2010-03-08</td>\n",
       "      <td>2012-01-01</td>\n",
       "    </tr>\n",
       "    <tr>\n",
       "      <th>9</th>\n",
       "      <td>/company/10bestthings</td>\n",
       "      <td>10BestThings</td>\n",
       "      <td>web</td>\n",
       "      <td>50000.0</td>\n",
       "      <td>operating</td>\n",
       "      <td>USA</td>\n",
       "      <td>OH</td>\n",
       "      <td>Cleveland</td>\n",
       "      <td>Cleveland</td>\n",
       "      <td>1</td>\n",
       "      <td>2009-04-01</td>\n",
       "      <td>2009-04</td>\n",
       "      <td>2009-Q2</td>\n",
       "      <td>2009.0</td>\n",
       "      <td>2009-04-01</td>\n",
       "      <td>2009-04-01</td>\n",
       "      <td>NaT</td>\n",
       "    </tr>\n",
       "    <tr>\n",
       "      <th>...</th>\n",
       "      <td>...</td>\n",
       "      <td>...</td>\n",
       "      <td>...</td>\n",
       "      <td>...</td>\n",
       "      <td>...</td>\n",
       "      <td>...</td>\n",
       "      <td>...</td>\n",
       "      <td>...</td>\n",
       "      <td>...</td>\n",
       "      <td>...</td>\n",
       "      <td>...</td>\n",
       "      <td>...</td>\n",
       "      <td>...</td>\n",
       "      <td>...</td>\n",
       "      <td>...</td>\n",
       "      <td>...</td>\n",
       "      <td>...</td>\n",
       "    </tr>\n",
       "    <tr>\n",
       "      <th>15815</th>\n",
       "      <td>/company/zyga-technology</td>\n",
       "      <td>Zyga Technology</td>\n",
       "      <td>medical</td>\n",
       "      <td>25000000.0</td>\n",
       "      <td>operating</td>\n",
       "      <td>USA</td>\n",
       "      <td>MN</td>\n",
       "      <td>Minneapolis</td>\n",
       "      <td>Minnetonka</td>\n",
       "      <td>1</td>\n",
       "      <td>NaT</td>\n",
       "      <td>NaN</td>\n",
       "      <td>NaN</td>\n",
       "      <td>NaN</td>\n",
       "      <td>2012-05-16</td>\n",
       "      <td>2012-05-16</td>\n",
       "      <td>NaT</td>\n",
       "    </tr>\n",
       "    <tr>\n",
       "      <th>15817</th>\n",
       "      <td>/company/zykis</td>\n",
       "      <td>Zykis</td>\n",
       "      <td>public_relations</td>\n",
       "      <td>800000.0</td>\n",
       "      <td>operating</td>\n",
       "      <td>USA</td>\n",
       "      <td>CA</td>\n",
       "      <td>Los Angeles</td>\n",
       "      <td>Irvine</td>\n",
       "      <td>1</td>\n",
       "      <td>2006-10-27</td>\n",
       "      <td>2006-10</td>\n",
       "      <td>2006-Q4</td>\n",
       "      <td>2006.0</td>\n",
       "      <td>2006-10-27</td>\n",
       "      <td>2006-10-27</td>\n",
       "      <td>NaT</td>\n",
       "    </tr>\n",
       "    <tr>\n",
       "      <th>15819</th>\n",
       "      <td>/company/zymetis</td>\n",
       "      <td>Zymetis</td>\n",
       "      <td>biotech</td>\n",
       "      <td>2257464.0</td>\n",
       "      <td>operating</td>\n",
       "      <td>USA</td>\n",
       "      <td>MD</td>\n",
       "      <td>Washington DC</td>\n",
       "      <td>College Park</td>\n",
       "      <td>2</td>\n",
       "      <td>2006-01-01</td>\n",
       "      <td>2006-01</td>\n",
       "      <td>2006-Q1</td>\n",
       "      <td>2006.0</td>\n",
       "      <td>2010-01-11</td>\n",
       "      <td>2010-01-31</td>\n",
       "      <td>NaT</td>\n",
       "    </tr>\n",
       "    <tr>\n",
       "      <th>15821</th>\n",
       "      <td>/company/zyngenia</td>\n",
       "      <td>Zyngenia</td>\n",
       "      <td>biotech</td>\n",
       "      <td>25000000.0</td>\n",
       "      <td>operating</td>\n",
       "      <td>USA</td>\n",
       "      <td>MD</td>\n",
       "      <td>Washington DC</td>\n",
       "      <td>Gaithersburg</td>\n",
       "      <td>1</td>\n",
       "      <td>2008-01-01</td>\n",
       "      <td>2008-01</td>\n",
       "      <td>2008-Q1</td>\n",
       "      <td>2008.0</td>\n",
       "      <td>2010-09-09</td>\n",
       "      <td>2010-09-09</td>\n",
       "      <td>NaT</td>\n",
       "    </tr>\n",
       "    <tr>\n",
       "      <th>15824</th>\n",
       "      <td>/company/zyrra</td>\n",
       "      <td>Zyrra</td>\n",
       "      <td>ecommerce</td>\n",
       "      <td>1460500.0</td>\n",
       "      <td>operating</td>\n",
       "      <td>USA</td>\n",
       "      <td>MA</td>\n",
       "      <td>Boston</td>\n",
       "      <td>Cambridge</td>\n",
       "      <td>3</td>\n",
       "      <td>NaT</td>\n",
       "      <td>NaN</td>\n",
       "      <td>NaN</td>\n",
       "      <td>NaN</td>\n",
       "      <td>2010-11-15</td>\n",
       "      <td>2012-10-18</td>\n",
       "      <td>NaT</td>\n",
       "    </tr>\n",
       "  </tbody>\n",
       "</table>\n",
       "<p>8840 rows × 17 columns</p>\n",
       "</div>"
      ],
      "text/plain": [
       "                      permalink             name     category_code  \\\n",
       "0              /company/waywire         #waywire              news   \n",
       "1              /company/n-plusn           #NAME?          software   \n",
       "4          /company/10-20-media      10-20 Media         ecommerce   \n",
       "8             /company/1010data         1010data          software   \n",
       "9         /company/10bestthings     10BestThings               web   \n",
       "...                         ...              ...               ...   \n",
       "15815  /company/zyga-technology  Zyga Technology           medical   \n",
       "15817            /company/zykis            Zykis  public_relations   \n",
       "15819          /company/zymetis          Zymetis           biotech   \n",
       "15821         /company/zyngenia         Zyngenia           biotech   \n",
       "15824            /company/zyrra            Zyrra         ecommerce   \n",
       "\n",
       "       funding_total_usd     status country_code state_code         region  \\\n",
       "0              1750000.0  operating          USA         NY       New York   \n",
       "1               600000.0  operating          USA         NY       New York   \n",
       "4               750000.0  operating          USA         MD  Washington DC   \n",
       "8             35000000.0  operating          USA         NY       New York   \n",
       "9                50000.0  operating          USA         OH      Cleveland   \n",
       "...                  ...        ...          ...        ...            ...   \n",
       "15815         25000000.0  operating          USA         MN    Minneapolis   \n",
       "15817           800000.0  operating          USA         CA    Los Angeles   \n",
       "15819          2257464.0  operating          USA         MD  Washington DC   \n",
       "15821         25000000.0  operating          USA         MD  Washington DC   \n",
       "15824          1460500.0  operating          USA         MA         Boston   \n",
       "\n",
       "               city  funding_rounds  founded_at founded_month founded_quarter  \\\n",
       "0          New York               1  2012-06-01       2012-06         2012-Q2   \n",
       "1          New York               1  2012-01-01       2012-01         2012-Q1   \n",
       "4          Woodbine               2  2001-01-01       2001-01         2001-Q1   \n",
       "8          New York               1  2000-01-01       2000-01         2000-Q1   \n",
       "9         Cleveland               1  2009-04-01       2009-04         2009-Q2   \n",
       "...             ...             ...         ...           ...             ...   \n",
       "15815    Minnetonka               1         NaT           NaN             NaN   \n",
       "15817        Irvine               1  2006-10-27       2006-10         2006-Q4   \n",
       "15819  College Park               2  2006-01-01       2006-01         2006-Q1   \n",
       "15821  Gaithersburg               1  2008-01-01       2008-01         2008-Q1   \n",
       "15824     Cambridge               3         NaT           NaN             NaN   \n",
       "\n",
       "       founded_year first_funding_at last_funding_at last_milestone_at  \n",
       "0            2012.0       2012-06-30      2012-06-30        2013-09-06  \n",
       "1            2012.0       2012-08-29      2012-08-29               NaT  \n",
       "4            2001.0       2010-03-30      2011-12-28               NaT  \n",
       "8            2000.0       2010-03-08      2010-03-08        2012-01-01  \n",
       "9            2009.0       2009-04-01      2009-04-01               NaT  \n",
       "...             ...              ...             ...               ...  \n",
       "15815           NaN       2012-05-16      2012-05-16               NaT  \n",
       "15817        2006.0       2006-10-27      2006-10-27               NaT  \n",
       "15819        2006.0       2010-01-11      2010-01-31               NaT  \n",
       "15821        2008.0       2010-09-09      2010-09-09               NaT  \n",
       "15824           NaN       2010-11-15      2012-10-18               NaT  \n",
       "\n",
       "[8840 rows x 17 columns]"
      ]
     },
     "execution_count": 24,
     "metadata": {},
     "output_type": "execute_result"
    }
   ],
   "source": [
    "# See how many operating companies were last funded more than 2.5 years ago\n",
    "companies[np.logical_and(\n",
    "    np.logical_and(companies.last_funding_at < pd.to_datetime('2013'), companies.first_funding_at >  pd.to_datetime('2005')),\n",
    "    companies.status == 'operating')]"
   ]
  },
  {
   "cell_type": "markdown",
   "id": "aa0c3642",
   "metadata": {},
   "source": [
    "Create new dataframe which contains only rows with status = (IPO, Acuaired, closed) "
   ]
  },
  {
   "cell_type": "code",
   "execution_count": 25,
   "id": "d4adb9a5",
   "metadata": {},
   "outputs": [],
   "source": [
    "# Create dataset containing only companies that failed or succeeded\n",
    "\n",
    "current_date = companies.last_funding_at.max()\n",
    "\n",
    "nonoperating_companies = companies[np.logical_or(\n",
    "    companies.status != 'operating',\n",
    "    np.logical_and(\n",
    "        np.logical_and(\n",
    "            companies.status == 'operating',\n",
    "            companies.first_funding_at >\n",
    "            current_date - pd.offsets.DateOffset(years=10)),\n",
    "        companies.last_funding_at < current_date -\n",
    "        pd.offsets.DateOffset(years=2, months=6)))].reset_index()"
   ]
  },
  {
   "cell_type": "code",
   "execution_count": 26,
   "id": "5c81b0ef",
   "metadata": {},
   "outputs": [
    {
     "data": {
      "text/plain": [
       "array(['acquired', 'operating', 'closed', 'ipo'], dtype=object)"
      ]
     },
     "execution_count": 26,
     "metadata": {},
     "output_type": "execute_result"
    }
   ],
   "source": [
    "nonoperating_companies['status'].unique()"
   ]
  },
  {
   "cell_type": "code",
   "execution_count": 27,
   "id": "7c8217db",
   "metadata": {},
   "outputs": [
    {
     "data": {
      "text/html": [
       "<div>\n",
       "<style scoped>\n",
       "    .dataframe tbody tr th:only-of-type {\n",
       "        vertical-align: middle;\n",
       "    }\n",
       "\n",
       "    .dataframe tbody tr th {\n",
       "        vertical-align: top;\n",
       "    }\n",
       "\n",
       "    .dataframe thead th {\n",
       "        text-align: right;\n",
       "    }\n",
       "</style>\n",
       "<table border=\"1\" class=\"dataframe\">\n",
       "  <thead>\n",
       "    <tr style=\"text-align: right;\">\n",
       "      <th></th>\n",
       "      <th>index</th>\n",
       "      <th>permalink</th>\n",
       "      <th>name</th>\n",
       "      <th>category_code</th>\n",
       "      <th>funding_total_usd</th>\n",
       "      <th>status</th>\n",
       "      <th>country_code</th>\n",
       "      <th>state_code</th>\n",
       "      <th>region</th>\n",
       "      <th>city</th>\n",
       "      <th>funding_rounds</th>\n",
       "      <th>founded_at</th>\n",
       "      <th>founded_month</th>\n",
       "      <th>founded_quarter</th>\n",
       "      <th>founded_year</th>\n",
       "      <th>first_funding_at</th>\n",
       "      <th>last_funding_at</th>\n",
       "      <th>last_milestone_at</th>\n",
       "    </tr>\n",
       "  </thead>\n",
       "  <tbody>\n",
       "    <tr>\n",
       "      <th>0</th>\n",
       "      <td>5</td>\n",
       "      <td>/company/1000memories</td>\n",
       "      <td>1000memories</td>\n",
       "      <td>web</td>\n",
       "      <td>2535000.0</td>\n",
       "      <td>acquired</td>\n",
       "      <td>USA</td>\n",
       "      <td>CA</td>\n",
       "      <td>SF Bay</td>\n",
       "      <td>San Francisco</td>\n",
       "      <td>2</td>\n",
       "      <td>2010-07-01</td>\n",
       "      <td>2010-07</td>\n",
       "      <td>2010-Q3</td>\n",
       "      <td>2010.0</td>\n",
       "      <td>2010-01-01</td>\n",
       "      <td>2011-02-16</td>\n",
       "      <td>2013-07-04</td>\n",
       "    </tr>\n",
       "    <tr>\n",
       "      <th>1</th>\n",
       "      <td>7</td>\n",
       "      <td>/company/100plus</td>\n",
       "      <td>100Plus</td>\n",
       "      <td>analytics</td>\n",
       "      <td>1250000.0</td>\n",
       "      <td>acquired</td>\n",
       "      <td>USA</td>\n",
       "      <td>CA</td>\n",
       "      <td>SF Bay</td>\n",
       "      <td>San Francisco</td>\n",
       "      <td>2</td>\n",
       "      <td>2011-09-16</td>\n",
       "      <td>2011-09</td>\n",
       "      <td>2011-Q3</td>\n",
       "      <td>2011.0</td>\n",
       "      <td>2011-11-02</td>\n",
       "      <td>2011-11-30</td>\n",
       "      <td>2013-02-27</td>\n",
       "    </tr>\n",
       "    <tr>\n",
       "      <th>2</th>\n",
       "      <td>8</td>\n",
       "      <td>/company/1010data</td>\n",
       "      <td>1010data</td>\n",
       "      <td>software</td>\n",
       "      <td>35000000.0</td>\n",
       "      <td>operating</td>\n",
       "      <td>USA</td>\n",
       "      <td>NY</td>\n",
       "      <td>New York</td>\n",
       "      <td>New York</td>\n",
       "      <td>1</td>\n",
       "      <td>2000-01-01</td>\n",
       "      <td>2000-01</td>\n",
       "      <td>2000-Q1</td>\n",
       "      <td>2000.0</td>\n",
       "      <td>2010-03-08</td>\n",
       "      <td>2010-03-08</td>\n",
       "      <td>2012-01-01</td>\n",
       "    </tr>\n",
       "    <tr>\n",
       "      <th>3</th>\n",
       "      <td>9</td>\n",
       "      <td>/company/10bestthings</td>\n",
       "      <td>10BestThings</td>\n",
       "      <td>web</td>\n",
       "      <td>50000.0</td>\n",
       "      <td>operating</td>\n",
       "      <td>USA</td>\n",
       "      <td>OH</td>\n",
       "      <td>Cleveland</td>\n",
       "      <td>Cleveland</td>\n",
       "      <td>1</td>\n",
       "      <td>2009-04-01</td>\n",
       "      <td>2009-04</td>\n",
       "      <td>2009-Q2</td>\n",
       "      <td>2009.0</td>\n",
       "      <td>2009-04-01</td>\n",
       "      <td>2009-04-01</td>\n",
       "      <td>NaT</td>\n",
       "    </tr>\n",
       "    <tr>\n",
       "      <th>4</th>\n",
       "      <td>12</td>\n",
       "      <td>/company/11i-solutions</td>\n",
       "      <td>11i Solutions</td>\n",
       "      <td>enterprise</td>\n",
       "      <td>1800000.0</td>\n",
       "      <td>closed</td>\n",
       "      <td>USA</td>\n",
       "      <td>AL</td>\n",
       "      <td>Huntsville</td>\n",
       "      <td>Huntsville</td>\n",
       "      <td>1</td>\n",
       "      <td>NaT</td>\n",
       "      <td>NaN</td>\n",
       "      <td>NaN</td>\n",
       "      <td>NaN</td>\n",
       "      <td>2011-03-22</td>\n",
       "      <td>2011-03-22</td>\n",
       "      <td>NaT</td>\n",
       "    </tr>\n",
       "  </tbody>\n",
       "</table>\n",
       "</div>"
      ],
      "text/plain": [
       "   index               permalink           name category_code  \\\n",
       "0      5   /company/1000memories   1000memories           web   \n",
       "1      7        /company/100plus        100Plus     analytics   \n",
       "2      8       /company/1010data       1010data      software   \n",
       "3      9   /company/10bestthings   10BestThings           web   \n",
       "4     12  /company/11i-solutions  11i Solutions    enterprise   \n",
       "\n",
       "   funding_total_usd     status country_code state_code      region  \\\n",
       "0          2535000.0   acquired          USA         CA      SF Bay   \n",
       "1          1250000.0   acquired          USA         CA      SF Bay   \n",
       "2         35000000.0  operating          USA         NY    New York   \n",
       "3            50000.0  operating          USA         OH   Cleveland   \n",
       "4          1800000.0     closed          USA         AL  Huntsville   \n",
       "\n",
       "            city  funding_rounds  founded_at founded_month founded_quarter  \\\n",
       "0  San Francisco               2  2010-07-01       2010-07         2010-Q3   \n",
       "1  San Francisco               2  2011-09-16       2011-09         2011-Q3   \n",
       "2       New York               1  2000-01-01       2000-01         2000-Q1   \n",
       "3      Cleveland               1  2009-04-01       2009-04         2009-Q2   \n",
       "4     Huntsville               1         NaT           NaN             NaN   \n",
       "\n",
       "   founded_year first_funding_at last_funding_at last_milestone_at  \n",
       "0        2010.0       2010-01-01      2011-02-16        2013-07-04  \n",
       "1        2011.0       2011-11-02      2011-11-30        2013-02-27  \n",
       "2        2000.0       2010-03-08      2010-03-08        2012-01-01  \n",
       "3        2009.0       2009-04-01      2009-04-01               NaT  \n",
       "4           NaN       2011-03-22      2011-03-22               NaT  "
      ]
     },
     "execution_count": 27,
     "metadata": {},
     "output_type": "execute_result"
    }
   ],
   "source": [
    "nonoperating_companies.head()"
   ]
  },
  {
   "cell_type": "code",
   "execution_count": 28,
   "id": "18a3efc3",
   "metadata": {},
   "outputs": [],
   "source": [
    "nonoperating_companies.drop(columns='index', axis=1, inplace=True)"
   ]
  },
  {
   "cell_type": "code",
   "execution_count": 29,
   "id": "6f3fb2f3",
   "metadata": {},
   "outputs": [
    {
     "data": {
      "text/plain": [
       "operating    3866\n",
       "acquired     1495\n",
       "closed        495\n",
       "ipo           334\n",
       "Name: status, dtype: int64"
      ]
     },
     "execution_count": 29,
     "metadata": {},
     "output_type": "execute_result"
    }
   ],
   "source": [
    "nonoperating_companies.status.value_counts()"
   ]
  },
  {
   "cell_type": "code",
   "execution_count": 30,
   "id": "4a57e754",
   "metadata": {},
   "outputs": [
    {
     "data": {
      "text/plain": [
       "(6190, 17)"
      ]
     },
     "execution_count": 30,
     "metadata": {},
     "output_type": "execute_result"
    }
   ],
   "source": [
    "nonoperating_companies.shape"
   ]
  },
  {
   "cell_type": "markdown",
   "id": "9219e6da",
   "metadata": {},
   "source": [
    "Create boolean classifier, 'succeed' which equals to 1 if companie is aquired/ipo. and equals to 0 if company's status= closed"
   ]
  },
  {
   "cell_type": "code",
   "execution_count": 31,
   "id": "85e64890",
   "metadata": {},
   "outputs": [],
   "source": [
    "nonoperating_companies['succeed'] = np.nan"
   ]
  },
  {
   "cell_type": "code",
   "execution_count": 32,
   "id": "912eff50",
   "metadata": {},
   "outputs": [],
   "source": [
    "#fill the column\n",
    "nonoperating_companies.loc[np.logical_or(nonoperating_companies.status == 'closed', nonoperating_companies.\n",
    "    status == 'operating'), 'succeed'] = 0\n",
    "nonoperating_companies.loc[np.logical_or(\n",
    "    nonoperating_companies.status == 'ipo', nonoperating_companies.status\n",
    "    == 'acquired'), 'succeed'] = 1"
   ]
  },
  {
   "cell_type": "code",
   "execution_count": 33,
   "id": "e687f7c6",
   "metadata": {},
   "outputs": [
    {
     "data": {
      "text/plain": [
       "0.0    4361\n",
       "1.0    1829\n",
       "Name: succeed, dtype: int64"
      ]
     },
     "execution_count": 33,
     "metadata": {},
     "output_type": "execute_result"
    }
   ],
   "source": [
    "nonoperating_companies.succeed.value_counts()"
   ]
  },
  {
   "cell_type": "code",
   "execution_count": 34,
   "id": "359cf720",
   "metadata": {},
   "outputs": [
    {
     "data": {
      "text/plain": [
       "Index(['permalink', 'name', 'category_code', 'funding_total_usd', 'status',\n",
       "       'country_code', 'state_code', 'region', 'city', 'funding_rounds',\n",
       "       'founded_at', 'founded_month', 'founded_quarter', 'founded_year',\n",
       "       'first_funding_at', 'last_funding_at', 'last_milestone_at', 'succeed'],\n",
       "      dtype='object')"
      ]
     },
     "execution_count": 34,
     "metadata": {},
     "output_type": "execute_result"
    }
   ],
   "source": [
    "nonoperating_companies.columns"
   ]
  },
  {
   "cell_type": "markdown",
   "id": "b680bd5d",
   "metadata": {},
   "source": [
    "# Rounds"
   ]
  },
  {
   "cell_type": "code",
   "execution_count": 35,
   "id": "ad16c434",
   "metadata": {},
   "outputs": [
    {
     "data": {
      "text/plain": [
       "Index(['company_permalink', 'company_name', 'company_category_code',\n",
       "       'company_country_code', 'company_state_code', 'company_region',\n",
       "       'company_city', 'funding_round_type', 'funded_at', 'funded_month',\n",
       "       'funded_quarter', 'funded_year', 'raised_amount_usd'],\n",
       "      dtype='object')"
      ]
     },
     "execution_count": 35,
     "metadata": {},
     "output_type": "execute_result"
    }
   ],
   "source": [
    "rounds.columns"
   ]
  },
  {
   "cell_type": "code",
   "execution_count": 36,
   "id": "e4d3b66a",
   "metadata": {},
   "outputs": [
    {
     "data": {
      "text/plain": [
       "(31679, 13)"
      ]
     },
     "execution_count": 36,
     "metadata": {},
     "output_type": "execute_result"
    }
   ],
   "source": [
    "rounds.shape"
   ]
  },
  {
   "cell_type": "code",
   "execution_count": 37,
   "id": "45d2415e",
   "metadata": {},
   "outputs": [
    {
     "data": {
      "text/plain": [
       "company_permalink         object\n",
       "company_name              object\n",
       "company_category_code     object\n",
       "company_country_code      object\n",
       "company_state_code        object\n",
       "company_region            object\n",
       "company_city              object\n",
       "funding_round_type        object\n",
       "funded_at                 object\n",
       "funded_month              object\n",
       "funded_quarter            object\n",
       "funded_year                int64\n",
       "raised_amount_usd        float64\n",
       "dtype: object"
      ]
     },
     "execution_count": 37,
     "metadata": {},
     "output_type": "execute_result"
    }
   ],
   "source": [
    "rounds.dtypes"
   ]
  },
  {
   "cell_type": "code",
   "execution_count": 38,
   "id": "e40e5073",
   "metadata": {
    "scrolled": true
   },
   "outputs": [
    {
     "data": {
      "text/plain": [
       "21997    2005-07-18\n",
       "Name: funded_at, dtype: object"
      ]
     },
     "execution_count": 38,
     "metadata": {},
     "output_type": "execute_result"
    }
   ],
   "source": [
    "rounds['funded_at'].sample(1)"
   ]
  },
  {
   "cell_type": "code",
   "execution_count": 39,
   "id": "ca6bf3e9",
   "metadata": {},
   "outputs": [],
   "source": [
    "rounds['funded_at']= pd.to_datetime(rounds['funded_at'], format=\"%Y-%m-%d\")"
   ]
  },
  {
   "cell_type": "code",
   "execution_count": 40,
   "id": "c462d8e2",
   "metadata": {},
   "outputs": [
    {
     "data": {
      "text/plain": [
       "array(['series-a', 'angel', 'series-b', 'venture', 'other', 'series-c+',\n",
       "       'private-equity', 'post-ipo', 'crowdfunding'], dtype=object)"
      ]
     },
     "execution_count": 40,
     "metadata": {},
     "output_type": "execute_result"
    }
   ],
   "source": [
    "rounds['funding_round_type'].unique()"
   ]
  },
  {
   "cell_type": "markdown",
   "id": "e79b336d",
   "metadata": {},
   "source": [
    "# Feature Engineering"
   ]
  },
  {
   "cell_type": "markdown",
   "id": "9f150ddd",
   "metadata": {},
   "source": [
    "Drop rounds that doesn'thave a corresponding row in Non-operating Companies dataframe"
   ]
  },
  {
   "cell_type": "code",
   "execution_count": 41,
   "id": "c14ed20a",
   "metadata": {},
   "outputs": [
    {
     "data": {
      "text/plain": [
       "Index(['permalink', 'name', 'category_code', 'funding_total_usd', 'status',\n",
       "       'country_code', 'state_code', 'region', 'city', 'funding_rounds',\n",
       "       'founded_at', 'founded_month', 'founded_quarter', 'founded_year',\n",
       "       'first_funding_at', 'last_funding_at', 'last_milestone_at', 'succeed'],\n",
       "      dtype='object')"
      ]
     },
     "execution_count": 41,
     "metadata": {},
     "output_type": "execute_result"
    }
   ],
   "source": [
    "nonoperating_companies.columns"
   ]
  },
  {
   "cell_type": "code",
   "execution_count": 42,
   "id": "124c7805",
   "metadata": {},
   "outputs": [],
   "source": [
    "nonoperating_names = nonoperating_companies['permalink']"
   ]
  },
  {
   "cell_type": "code",
   "execution_count": 43,
   "id": "90cf23bf",
   "metadata": {},
   "outputs": [],
   "source": [
    "rounds_c =rounds[rounds['company_permalink'].isin(nonoperating_names)]"
   ]
  },
  {
   "cell_type": "code",
   "execution_count": 44,
   "id": "a2b75b72",
   "metadata": {},
   "outputs": [
    {
     "data": {
      "text/plain": [
       "(10501, 13)"
      ]
     },
     "execution_count": 44,
     "metadata": {},
     "output_type": "execute_result"
    }
   ],
   "source": [
    "rounds_c.shape"
   ]
  },
  {
   "cell_type": "markdown",
   "id": "bb3e19b4",
   "metadata": {},
   "source": [
    "**Average Time between Rounds**"
   ]
  },
  {
   "cell_type": "code",
   "execution_count": 45,
   "id": "7adf4463",
   "metadata": {},
   "outputs": [
    {
     "name": "stderr",
     "output_type": "stream",
     "text": [
      "<ipython-input-45-1b0af6b6d946>:1: SettingWithCopyWarning: \n",
      "A value is trying to be set on a copy of a slice from a DataFrame\n",
      "\n",
      "See the caveats in the documentation: https://pandas.pydata.org/pandas-docs/stable/user_guide/indexing.html#returning-a-view-versus-a-copy\n",
      "  rounds_c.sort_values(by=['company_name', 'funded_at'],ascending=True,inplace=True)\n"
     ]
    }
   ],
   "source": [
    "rounds_c.sort_values(by=['company_name', 'funded_at'],ascending=True,inplace=True)"
   ]
  },
  {
   "cell_type": "code",
   "execution_count": 46,
   "id": "60b5371c",
   "metadata": {
    "scrolled": true
   },
   "outputs": [
    {
     "name": "stderr",
     "output_type": "stream",
     "text": [
      "<ipython-input-46-400690d5facc>:2: SettingWithCopyWarning: \n",
      "A value is trying to be set on a copy of a slice from a DataFrame.\n",
      "Try using .loc[row_indexer,col_indexer] = value instead\n",
      "\n",
      "See the caveats in the documentation: https://pandas.pydata.org/pandas-docs/stable/user_guide/indexing.html#returning-a-view-versus-a-copy\n",
      "  rounds_c['time_between_next_round'] = rounds_c.groupby('company_name').funded_at.diff()\n"
     ]
    }
   ],
   "source": [
    "# Create column for time between rounds\n",
    "rounds_c['time_between_next_round'] = rounds_c.groupby('company_name').funded_at.diff()"
   ]
  },
  {
   "cell_type": "code",
   "execution_count": 47,
   "id": "5aea0bc4",
   "metadata": {
    "scrolled": true
   },
   "outputs": [
    {
     "data": {
      "text/html": [
       "<div>\n",
       "<style scoped>\n",
       "    .dataframe tbody tr th:only-of-type {\n",
       "        vertical-align: middle;\n",
       "    }\n",
       "\n",
       "    .dataframe tbody tr th {\n",
       "        vertical-align: top;\n",
       "    }\n",
       "\n",
       "    .dataframe thead th {\n",
       "        text-align: right;\n",
       "    }\n",
       "</style>\n",
       "<table border=\"1\" class=\"dataframe\">\n",
       "  <thead>\n",
       "    <tr style=\"text-align: right;\">\n",
       "      <th></th>\n",
       "      <th>company_permalink</th>\n",
       "      <th>company_name</th>\n",
       "      <th>company_category_code</th>\n",
       "      <th>company_country_code</th>\n",
       "      <th>company_state_code</th>\n",
       "      <th>company_region</th>\n",
       "      <th>company_city</th>\n",
       "      <th>funding_round_type</th>\n",
       "      <th>funded_at</th>\n",
       "      <th>funded_month</th>\n",
       "      <th>funded_quarter</th>\n",
       "      <th>funded_year</th>\n",
       "      <th>raised_amount_usd</th>\n",
       "      <th>time_between_next_round</th>\n",
       "    </tr>\n",
       "  </thead>\n",
       "  <tbody>\n",
       "    <tr>\n",
       "      <th>20675</th>\n",
       "      <td>/company/pipeline-micro</td>\n",
       "      <td>Pipeline Micro</td>\n",
       "      <td>hardware</td>\n",
       "      <td>USA</td>\n",
       "      <td>HI</td>\n",
       "      <td>Honolulu</td>\n",
       "      <td>Honolulu</td>\n",
       "      <td>series-a</td>\n",
       "      <td>2009-01-12</td>\n",
       "      <td>2009-01</td>\n",
       "      <td>2009-Q1</td>\n",
       "      <td>2009</td>\n",
       "      <td>7000000.0</td>\n",
       "      <td>NaT</td>\n",
       "    </tr>\n",
       "    <tr>\n",
       "      <th>6972</th>\n",
       "      <td>/company/crossing-automation</td>\n",
       "      <td>Crossing Automation</td>\n",
       "      <td>semiconductor</td>\n",
       "      <td>USA</td>\n",
       "      <td>CA</td>\n",
       "      <td>SF Bay</td>\n",
       "      <td>Mountain View</td>\n",
       "      <td>series-b</td>\n",
       "      <td>2009-09-02</td>\n",
       "      <td>2009-09</td>\n",
       "      <td>2009-Q3</td>\n",
       "      <td>2009</td>\n",
       "      <td>6500000.0</td>\n",
       "      <td>485 days</td>\n",
       "    </tr>\n",
       "    <tr>\n",
       "      <th>22413</th>\n",
       "      <td>/company/recyclematch</td>\n",
       "      <td>RecycleMatch</td>\n",
       "      <td>enterprise</td>\n",
       "      <td>USA</td>\n",
       "      <td>TX</td>\n",
       "      <td>Houston</td>\n",
       "      <td>Houston</td>\n",
       "      <td>angel</td>\n",
       "      <td>2010-10-15</td>\n",
       "      <td>2010-10</td>\n",
       "      <td>2010-Q4</td>\n",
       "      <td>2010</td>\n",
       "      <td>600000.0</td>\n",
       "      <td>167 days</td>\n",
       "    </tr>\n",
       "  </tbody>\n",
       "</table>\n",
       "</div>"
      ],
      "text/plain": [
       "                  company_permalink         company_name  \\\n",
       "20675       /company/pipeline-micro       Pipeline Micro   \n",
       "6972   /company/crossing-automation  Crossing Automation   \n",
       "22413         /company/recyclematch         RecycleMatch   \n",
       "\n",
       "      company_category_code company_country_code company_state_code  \\\n",
       "20675              hardware                  USA                 HI   \n",
       "6972          semiconductor                  USA                 CA   \n",
       "22413            enterprise                  USA                 TX   \n",
       "\n",
       "      company_region   company_city funding_round_type  funded_at  \\\n",
       "20675       Honolulu       Honolulu           series-a 2009-01-12   \n",
       "6972          SF Bay  Mountain View           series-b 2009-09-02   \n",
       "22413        Houston        Houston              angel 2010-10-15   \n",
       "\n",
       "      funded_month funded_quarter  funded_year  raised_amount_usd  \\\n",
       "20675      2009-01        2009-Q1         2009          7000000.0   \n",
       "6972       2009-09        2009-Q3         2009          6500000.0   \n",
       "22413      2010-10        2010-Q4         2010           600000.0   \n",
       "\n",
       "      time_between_next_round  \n",
       "20675                     NaT  \n",
       "6972                 485 days  \n",
       "22413                167 days  "
      ]
     },
     "execution_count": 47,
     "metadata": {},
     "output_type": "execute_result"
    }
   ],
   "source": [
    "rounds_c.sample(3)"
   ]
  },
  {
   "cell_type": "code",
   "execution_count": 48,
   "id": "f9a091c0",
   "metadata": {},
   "outputs": [
    {
     "name": "stderr",
     "output_type": "stream",
     "text": [
      "C:\\Users\\hp\\ooo\\lib\\site-packages\\pandas\\core\\series.py:4463: SettingWithCopyWarning: \n",
      "A value is trying to be set on a copy of a slice from a DataFrame\n",
      "\n",
      "See the caveats in the documentation: https://pandas.pydata.org/pandas-docs/stable/user_guide/indexing.html#returning-a-view-versus-a-copy\n",
      "  return super().fillna(\n"
     ]
    }
   ],
   "source": [
    "rounds_c['time_between_next_round'].fillna(pd.Timedelta(seconds=0), inplace=True)"
   ]
  },
  {
   "cell_type": "code",
   "execution_count": 49,
   "id": "b5a8fb43",
   "metadata": {},
   "outputs": [],
   "source": [
    "# Calculate average time between rounds and average round amount raised ($)\n",
    "\n",
    "avg_round_time_amount = rounds_c.groupby('company_name').agg({\n",
    "    'time_between_next_round':\n",
    "    pd.Series.mean,\n",
    "    'raised_amount_usd':\n",
    "    'mean'\n",
    "}).rename(\n",
    "    columns={\n",
    "        'time_between_next_round': 'avg_time_bw_rounds',\n",
    "        'raised_amount_usd': 'avg_raise_usd'\n",
    "    }).reset_index()"
   ]
  },
  {
   "cell_type": "code",
   "execution_count": 50,
   "id": "518a3031",
   "metadata": {},
   "outputs": [],
   "source": [
    "# Merge into main df\n",
    "\n",
    "nonoperating_companies = nonoperating_companies.merge(\n",
    "    avg_round_time_amount, how='left', left_on='name', right_on='company_name')"
   ]
  },
  {
   "cell_type": "code",
   "execution_count": 51,
   "id": "ce0ecbb9",
   "metadata": {
    "scrolled": true
   },
   "outputs": [
    {
     "data": {
      "text/html": [
       "<div>\n",
       "<style scoped>\n",
       "    .dataframe tbody tr th:only-of-type {\n",
       "        vertical-align: middle;\n",
       "    }\n",
       "\n",
       "    .dataframe tbody tr th {\n",
       "        vertical-align: top;\n",
       "    }\n",
       "\n",
       "    .dataframe thead th {\n",
       "        text-align: right;\n",
       "    }\n",
       "</style>\n",
       "<table border=\"1\" class=\"dataframe\">\n",
       "  <thead>\n",
       "    <tr style=\"text-align: right;\">\n",
       "      <th></th>\n",
       "      <th>permalink</th>\n",
       "      <th>name</th>\n",
       "      <th>category_code</th>\n",
       "      <th>funding_total_usd</th>\n",
       "      <th>status</th>\n",
       "      <th>country_code</th>\n",
       "      <th>state_code</th>\n",
       "      <th>region</th>\n",
       "      <th>city</th>\n",
       "      <th>funding_rounds</th>\n",
       "      <th>...</th>\n",
       "      <th>founded_month</th>\n",
       "      <th>founded_quarter</th>\n",
       "      <th>founded_year</th>\n",
       "      <th>first_funding_at</th>\n",
       "      <th>last_funding_at</th>\n",
       "      <th>last_milestone_at</th>\n",
       "      <th>succeed</th>\n",
       "      <th>company_name</th>\n",
       "      <th>avg_time_bw_rounds</th>\n",
       "      <th>avg_raise_usd</th>\n",
       "    </tr>\n",
       "  </thead>\n",
       "  <tbody>\n",
       "    <tr>\n",
       "      <th>4008</th>\n",
       "      <td>/company/pgp-trustcenter</td>\n",
       "      <td>PGP TrustCenter</td>\n",
       "      <td>security</td>\n",
       "      <td>8500000.0</td>\n",
       "      <td>operating</td>\n",
       "      <td>USA</td>\n",
       "      <td>MA</td>\n",
       "      <td>Boston</td>\n",
       "      <td>Newton</td>\n",
       "      <td>1</td>\n",
       "      <td>...</td>\n",
       "      <td>1997-01</td>\n",
       "      <td>1997-Q1</td>\n",
       "      <td>1997.0</td>\n",
       "      <td>2007-05-29</td>\n",
       "      <td>2007-05-29</td>\n",
       "      <td>2009-09-14</td>\n",
       "      <td>0.0</td>\n",
       "      <td>PGP TrustCenter</td>\n",
       "      <td>0 days</td>\n",
       "      <td>8500000.0</td>\n",
       "    </tr>\n",
       "    <tr>\n",
       "      <th>583</th>\n",
       "      <td>/company/bbs-technologies</td>\n",
       "      <td>BBS Technologies</td>\n",
       "      <td>software</td>\n",
       "      <td>8000000.0</td>\n",
       "      <td>operating</td>\n",
       "      <td>USA</td>\n",
       "      <td>TX</td>\n",
       "      <td>Houston</td>\n",
       "      <td>Houston</td>\n",
       "      <td>1</td>\n",
       "      <td>...</td>\n",
       "      <td>2000-01</td>\n",
       "      <td>2000-Q1</td>\n",
       "      <td>2000.0</td>\n",
       "      <td>2006-04-21</td>\n",
       "      <td>2006-04-21</td>\n",
       "      <td>2002-01-01</td>\n",
       "      <td>0.0</td>\n",
       "      <td>BBS Technologies</td>\n",
       "      <td>0 days</td>\n",
       "      <td>8000000.0</td>\n",
       "    </tr>\n",
       "    <tr>\n",
       "      <th>2421</th>\n",
       "      <td>/company/hyper9</td>\n",
       "      <td>Hyper9</td>\n",
       "      <td>software</td>\n",
       "      <td>15200000.0</td>\n",
       "      <td>acquired</td>\n",
       "      <td>USA</td>\n",
       "      <td>TX</td>\n",
       "      <td>Austin</td>\n",
       "      <td>Austin</td>\n",
       "      <td>3</td>\n",
       "      <td>...</td>\n",
       "      <td>2006-01</td>\n",
       "      <td>2006-Q1</td>\n",
       "      <td>2006.0</td>\n",
       "      <td>2007-07-16</td>\n",
       "      <td>2009-02-26</td>\n",
       "      <td>NaT</td>\n",
       "      <td>1.0</td>\n",
       "      <td>Hyper9</td>\n",
       "      <td>197 days</td>\n",
       "      <td>7600000.0</td>\n",
       "    </tr>\n",
       "    <tr>\n",
       "      <th>4830</th>\n",
       "      <td>/company/skydata-systems</td>\n",
       "      <td>SkyData Systems</td>\n",
       "      <td>mobile</td>\n",
       "      <td>4000000.0</td>\n",
       "      <td>operating</td>\n",
       "      <td>USA</td>\n",
       "      <td>CA</td>\n",
       "      <td>SF Bay</td>\n",
       "      <td>San Mateo</td>\n",
       "      <td>1</td>\n",
       "      <td>...</td>\n",
       "      <td>NaN</td>\n",
       "      <td>NaN</td>\n",
       "      <td>NaN</td>\n",
       "      <td>2008-05-28</td>\n",
       "      <td>2008-05-28</td>\n",
       "      <td>NaT</td>\n",
       "      <td>0.0</td>\n",
       "      <td>SkyData Systems</td>\n",
       "      <td>0 days</td>\n",
       "      <td>4000000.0</td>\n",
       "    </tr>\n",
       "    <tr>\n",
       "      <th>2818</th>\n",
       "      <td>/company/kickfire</td>\n",
       "      <td>Kickfire</td>\n",
       "      <td>software</td>\n",
       "      <td>20000000.0</td>\n",
       "      <td>operating</td>\n",
       "      <td>USA</td>\n",
       "      <td>CA</td>\n",
       "      <td>SF Bay</td>\n",
       "      <td>Santa Clara</td>\n",
       "      <td>1</td>\n",
       "      <td>...</td>\n",
       "      <td>2006-01</td>\n",
       "      <td>2006-Q1</td>\n",
       "      <td>2006.0</td>\n",
       "      <td>2008-07-31</td>\n",
       "      <td>2008-07-31</td>\n",
       "      <td>2010-08-10</td>\n",
       "      <td>0.0</td>\n",
       "      <td>Kickfire</td>\n",
       "      <td>0 days</td>\n",
       "      <td>20000000.0</td>\n",
       "    </tr>\n",
       "  </tbody>\n",
       "</table>\n",
       "<p>5 rows × 21 columns</p>\n",
       "</div>"
      ],
      "text/plain": [
       "                      permalink              name category_code  \\\n",
       "4008   /company/pgp-trustcenter   PGP TrustCenter      security   \n",
       "583   /company/bbs-technologies  BBS Technologies      software   \n",
       "2421            /company/hyper9            Hyper9      software   \n",
       "4830   /company/skydata-systems   SkyData Systems        mobile   \n",
       "2818          /company/kickfire          Kickfire      software   \n",
       "\n",
       "      funding_total_usd     status country_code state_code   region  \\\n",
       "4008          8500000.0  operating          USA         MA   Boston   \n",
       "583           8000000.0  operating          USA         TX  Houston   \n",
       "2421         15200000.0   acquired          USA         TX   Austin   \n",
       "4830          4000000.0  operating          USA         CA   SF Bay   \n",
       "2818         20000000.0  operating          USA         CA   SF Bay   \n",
       "\n",
       "             city  funding_rounds  ... founded_month founded_quarter  \\\n",
       "4008       Newton               1  ...       1997-01         1997-Q1   \n",
       "583       Houston               1  ...       2000-01         2000-Q1   \n",
       "2421       Austin               3  ...       2006-01         2006-Q1   \n",
       "4830    San Mateo               1  ...           NaN             NaN   \n",
       "2818  Santa Clara               1  ...       2006-01         2006-Q1   \n",
       "\n",
       "     founded_year  first_funding_at last_funding_at last_milestone_at succeed  \\\n",
       "4008       1997.0        2007-05-29      2007-05-29        2009-09-14     0.0   \n",
       "583        2000.0        2006-04-21      2006-04-21        2002-01-01     0.0   \n",
       "2421       2006.0        2007-07-16      2009-02-26               NaT     1.0   \n",
       "4830          NaN        2008-05-28      2008-05-28               NaT     0.0   \n",
       "2818       2006.0        2008-07-31      2008-07-31        2010-08-10     0.0   \n",
       "\n",
       "          company_name avg_time_bw_rounds avg_raise_usd  \n",
       "4008   PGP TrustCenter             0 days     8500000.0  \n",
       "583   BBS Technologies             0 days     8000000.0  \n",
       "2421            Hyper9           197 days     7600000.0  \n",
       "4830   SkyData Systems             0 days     4000000.0  \n",
       "2818          Kickfire             0 days    20000000.0  \n",
       "\n",
       "[5 rows x 21 columns]"
      ]
     },
     "execution_count": 51,
     "metadata": {},
     "output_type": "execute_result"
    }
   ],
   "source": [
    "nonoperating_companies.sample(5)"
   ]
  },
  {
   "cell_type": "markdown",
   "id": "96180eb2",
   "metadata": {},
   "source": [
    "**time between first and second round**"
   ]
  },
  {
   "cell_type": "code",
   "execution_count": 52,
   "id": "ff217a4f",
   "metadata": {},
   "outputs": [],
   "source": [
    "\n",
    "# Create column in main df\n",
    "nonoperating_companies['time_bw_first_rounds'] = dt.timedelta(0)\n",
    "\n",
    "for company in rounds_c.company_name.unique():\n",
    "    if len(rounds_c[rounds_c.company_name ==\n",
    "                           company].funded_at) > 1:\n",
    "        nonoperating_companies.loc[\n",
    "            nonoperating_companies.name ==\n",
    "            company, 'time_bw_first_rounds'] = rounds_c[\n",
    "                rounds_c.company_name == company].funded_at.values[\n",
    "                    1] - rounds_c[rounds_c.company_name ==\n",
    "                                         company].funded_at.values[0]"
   ]
  },
  {
   "cell_type": "code",
   "execution_count": 53,
   "id": "2f8b47cd",
   "metadata": {},
   "outputs": [
    {
     "data": {
      "text/plain": [
       "Index(['permalink', 'name', 'category_code', 'funding_total_usd', 'status',\n",
       "       'country_code', 'state_code', 'region', 'city', 'funding_rounds',\n",
       "       'founded_at', 'founded_month', 'founded_quarter', 'founded_year',\n",
       "       'first_funding_at', 'last_funding_at', 'last_milestone_at', 'succeed',\n",
       "       'company_name', 'avg_time_bw_rounds', 'avg_raise_usd',\n",
       "       'time_bw_first_rounds'],\n",
       "      dtype='object')"
      ]
     },
     "execution_count": 53,
     "metadata": {},
     "output_type": "execute_result"
    }
   ],
   "source": [
    "nonoperating_companies.columns"
   ]
  },
  {
   "cell_type": "markdown",
   "id": "9d667d2a",
   "metadata": {},
   "source": [
    "### Feature: categories"
   ]
  },
  {
   "cell_type": "code",
   "execution_count": 54,
   "id": "01c17a0d",
   "metadata": {},
   "outputs": [],
   "source": [
    "# Fill empty category with 'unknown'\n",
    "nonoperating_companies.category_code.fillna('unknown_category', inplace=True)\n"
   ]
  },
  {
   "cell_type": "code",
   "execution_count": 56,
   "id": "3ae825f3",
   "metadata": {},
   "outputs": [
    {
     "data": {
      "image/png": "[encoded data removed]",
      "text/plain": [
       "<Figure size 648x360 with 1 Axes>"
      ]
     },
     "metadata": {
      "needs_background": "light"
     },
     "output_type": "display_data"
    }
   ],
   "source": [
    "from collections import Counter\n",
    "import matplotlib.pyplot as plt\n",
    "import seaborn as sns\n",
    "\n",
    "# Create list of category lists\n",
    "categories = list(nonoperating_companies.category_code)\n",
    "# Flatten the list\n",
    "# Count occurences of each\n",
    "category_counts = Counter(categories).most_common()\n",
    "# Look at the distribution\n",
    "plt.figure(figsize=(9, 5))\n",
    "plt.bar([x[0] for x in category_counts[0:50]],\n",
    "        [x[1] for x in category_counts[0:50]],\n",
    "        width=0.8)\n",
    "plt.xticks(rotation=90)\n",
    "plt.title('50 Most Commonly Occuring Categories')\n",
    "sns.despine()"
   ]
  },
  {
   "cell_type": "markdown",
   "id": "3a3d0bf9",
   "metadata": {},
   "source": [
    "take only the top 6 and assign other to \"OtherCategory\""
   ]
  },
  {
   "cell_type": "code",
   "execution_count": 65,
   "id": "91ab504e",
   "metadata": {},
   "outputs": [
    {
     "data": {
      "text/plain": [
       "['software', 'web', 'biotech', 'mobile', 'enterprise', 'games_video']"
      ]
     },
     "execution_count": 65,
     "metadata": {},
     "output_type": "execute_result"
    }
   ],
   "source": [
    "top_6_categories= [x[0] for x in category_counts[0:6]]\n",
    "top_6_categories"
   ]
  },
  {
   "cell_type": "code",
   "execution_count": 66,
   "id": "92e2f158",
   "metadata": {},
   "outputs": [],
   "source": [
    "nonoperating_companies.loc[~nonoperating_companies.category_code.isin(top_6_categories), 'category_code'] = 'OtherCategory'"
   ]
  },
  {
   "cell_type": "code",
   "execution_count": 67,
   "id": "a3a4af6b",
   "metadata": {},
   "outputs": [
    {
     "data": {
      "text/plain": [
       "array(['web', 'OtherCategory', 'software', 'enterprise', 'games_video',\n",
       "       'biotech', 'mobile'], dtype=object)"
      ]
     },
     "execution_count": 67,
     "metadata": {},
     "output_type": "execute_result"
    }
   ],
   "source": [
    "nonoperating_companies.category_code.unique()"
   ]
  },
  {
   "cell_type": "markdown",
   "id": "2317ed76",
   "metadata": {},
   "source": [
    "### Feature: State\n"
   ]
  },
  {
   "cell_type": "code",
   "execution_count": 68,
   "id": "61339880",
   "metadata": {},
   "outputs": [],
   "source": [
    "#fill misiing values\n",
    "nonoperating_companies.state_code.fillna('unknown_state', inplace=True)"
   ]
  },
  {
   "cell_type": "code",
   "execution_count": 69,
   "id": "a4a81a35",
   "metadata": {},
   "outputs": [
    {
     "data": {
      "text/plain": [
       "array(['CA', 'NY', 'OH', 'AL', 'MA', 'FL', 'unknown_state', 'CO', 'TX',\n",
       "       'IA', 'GA', 'SC', 'WA', 'NC', 'WI', 'MN', 'KS', 'MD', 'IL', 'OR',\n",
       "       'AZ', 'CT', 'MI', 'IN', 'PA', 'NJ', 'MO', 'RI', 'ME', 'VA', 'TN',\n",
       "       'NE', 'NH', 'DE', 'UT', 'DC', 'LA', 'AR', 'HI', 'KY', 'NV', 'NM',\n",
       "       'MT', 'MS', 'OK', 'SD', 'VT', 'WY', 'WV', 'ID', 'ND'], dtype=object)"
      ]
     },
     "execution_count": 69,
     "metadata": {},
     "output_type": "execute_result"
    }
   ],
   "source": [
    "nonoperating_companies.state_code.unique()"
   ]
  },
  {
   "cell_type": "code",
   "execution_count": 70,
   "id": "548938ed",
   "metadata": {},
   "outputs": [
    {
     "data": {
      "text/plain": [
       "Text(0.5, 1.0, 'Distribution of Top 10 States')"
      ]
     },
     "execution_count": 70,
     "metadata": {},
     "output_type": "execute_result"
    },
    {
     "data": {
      "image/png": "[encoded data removed]",
      "text/plain": [
       "<Figure size 432x288 with 1 Axes>"
      ]
     },
     "metadata": {
      "needs_background": "light"
     },
     "output_type": "display_data"
    }
   ],
   "source": [
    "# Look at distribution\n",
    "states_dist = nonoperating_companies.groupby(\n",
    "    'state_code').size().sort_values(ascending=False)\n",
    "plt.bar(states_dist[0:10].index, height=states_dist[0:10].values)\n",
    "plt.xticks(rotation=90)\n",
    "sns.despine()\n",
    "plt.title('Distribution of Top 10 States')"
   ]
  },
  {
   "cell_type": "markdown",
   "id": "19f74f3b",
   "metadata": {},
   "source": [
    "take the top 4 states and replace others with \"OtherState\""
   ]
  },
  {
   "cell_type": "code",
   "execution_count": 77,
   "id": "ca5a8b45",
   "metadata": {},
   "outputs": [
    {
     "data": {
      "text/plain": [
       "['CA', 'NY', 'MA', 'TX']"
      ]
     },
     "execution_count": 77,
     "metadata": {},
     "output_type": "execute_result"
    }
   ],
   "source": [
    "top_4_states= list(states_dist[0:4].index)\n",
    "top_4_states"
   ]
  },
  {
   "cell_type": "code",
   "execution_count": 78,
   "id": "b742dce1",
   "metadata": {},
   "outputs": [],
   "source": [
    "nonoperating_companies.loc[~nonoperating_companies.state_code.isin(top_4_states), 'state_code'] = 'OtherState'"
   ]
  },
  {
   "cell_type": "code",
   "execution_count": 79,
   "id": "e8fc4628",
   "metadata": {},
   "outputs": [
    {
     "data": {
      "text/plain": [
       "array(['CA', 'NY', 'OtherState', 'MA', 'TX'], dtype=object)"
      ]
     },
     "execution_count": 79,
     "metadata": {},
     "output_type": "execute_result"
    }
   ],
   "source": [
    "nonoperating_companies.state_code.unique()"
   ]
  },
  {
   "cell_type": "markdown",
   "id": "6d3bd652",
   "metadata": {},
   "source": [
    "**Cleaning up date info**"
   ]
  },
  {
   "cell_type": "code",
   "execution_count": 80,
   "id": "d98c9b9c",
   "metadata": {},
   "outputs": [],
   "source": [
    "nonoperating_companies.time_bw_first_rounds.replace(to_replace=dt.timedelta(days=0),\n",
    "                                value=np.nan,\n",
    "                                inplace=True)"
   ]
  },
  {
   "cell_type": "code",
   "execution_count": 81,
   "id": "9698545d",
   "metadata": {},
   "outputs": [],
   "source": [
    "# Convert timedelta columns to float values for classification models\n",
    "nonoperating_companies['float_avg_time_bw_rounds'] = nonoperating_companies.avg_time_bw_rounds.dt.days\n",
    "nonoperating_companies['float_time_bw_first_rounds'] = nonoperating_companies.time_bw_first_rounds.dt.days"
   ]
  },
  {
   "cell_type": "markdown",
   "id": "df00baa2",
   "metadata": {},
   "source": [
    "# Outliers"
   ]
  },
  {
   "cell_type": "code",
   "execution_count": 82,
   "id": "4231f5ec",
   "metadata": {},
   "outputs": [],
   "source": [
    "df_size = nonoperating_companies.shape"
   ]
  },
  {
   "cell_type": "code",
   "execution_count": 83,
   "id": "83edd8b4",
   "metadata": {},
   "outputs": [
    {
     "data": {
      "text/html": [
       "<div>\n",
       "<style scoped>\n",
       "    .dataframe tbody tr th:only-of-type {\n",
       "        vertical-align: middle;\n",
       "    }\n",
       "\n",
       "    .dataframe tbody tr th {\n",
       "        vertical-align: top;\n",
       "    }\n",
       "\n",
       "    .dataframe thead th {\n",
       "        text-align: right;\n",
       "    }\n",
       "</style>\n",
       "<table border=\"1\" class=\"dataframe\">\n",
       "  <thead>\n",
       "    <tr style=\"text-align: right;\">\n",
       "      <th></th>\n",
       "      <th>permalink</th>\n",
       "      <th>name</th>\n",
       "      <th>category_code</th>\n",
       "      <th>funding_total_usd</th>\n",
       "      <th>status</th>\n",
       "      <th>country_code</th>\n",
       "      <th>state_code</th>\n",
       "      <th>region</th>\n",
       "      <th>city</th>\n",
       "      <th>funding_rounds</th>\n",
       "      <th>...</th>\n",
       "      <th>first_funding_at</th>\n",
       "      <th>last_funding_at</th>\n",
       "      <th>last_milestone_at</th>\n",
       "      <th>succeed</th>\n",
       "      <th>company_name</th>\n",
       "      <th>avg_time_bw_rounds</th>\n",
       "      <th>avg_raise_usd</th>\n",
       "      <th>time_bw_first_rounds</th>\n",
       "      <th>float_avg_time_bw_rounds</th>\n",
       "      <th>float_time_bw_first_rounds</th>\n",
       "    </tr>\n",
       "  </thead>\n",
       "  <tbody>\n",
       "    <tr>\n",
       "      <th>4525</th>\n",
       "      <td>/company/rollbase</td>\n",
       "      <td>Rollbase</td>\n",
       "      <td>enterprise</td>\n",
       "      <td>300000.0</td>\n",
       "      <td>acquired</td>\n",
       "      <td>USA</td>\n",
       "      <td>CA</td>\n",
       "      <td>SF Bay</td>\n",
       "      <td>Saratoga</td>\n",
       "      <td>1</td>\n",
       "      <td>...</td>\n",
       "      <td>2007-08-01</td>\n",
       "      <td>2007-08-01</td>\n",
       "      <td>2013-04-29</td>\n",
       "      <td>1.0</td>\n",
       "      <td>Rollbase</td>\n",
       "      <td>0 days 00:00:00</td>\n",
       "      <td>300000.0</td>\n",
       "      <td>NaT</td>\n",
       "      <td>0</td>\n",
       "      <td>NaN</td>\n",
       "    </tr>\n",
       "    <tr>\n",
       "      <th>1150</th>\n",
       "      <td>/company/colubris</td>\n",
       "      <td>Colubris Networks</td>\n",
       "      <td>OtherCategory</td>\n",
       "      <td>29000000.0</td>\n",
       "      <td>acquired</td>\n",
       "      <td>USA</td>\n",
       "      <td>MA</td>\n",
       "      <td>Boston</td>\n",
       "      <td>Waltham</td>\n",
       "      <td>2</td>\n",
       "      <td>...</td>\n",
       "      <td>2005-03-08</td>\n",
       "      <td>2006-10-23</td>\n",
       "      <td>2007-05-01</td>\n",
       "      <td>1.0</td>\n",
       "      <td>Colubris Networks</td>\n",
       "      <td>297 days 00:00:00</td>\n",
       "      <td>14500000.0</td>\n",
       "      <td>594 days</td>\n",
       "      <td>297</td>\n",
       "      <td>594.0</td>\n",
       "    </tr>\n",
       "    <tr>\n",
       "      <th>5498</th>\n",
       "      <td>/company/transparency-software</td>\n",
       "      <td>Transparency Software</td>\n",
       "      <td>software</td>\n",
       "      <td>12050000.0</td>\n",
       "      <td>operating</td>\n",
       "      <td>USA</td>\n",
       "      <td>CA</td>\n",
       "      <td>SF Bay</td>\n",
       "      <td>Palo Alto</td>\n",
       "      <td>2</td>\n",
       "      <td>...</td>\n",
       "      <td>2005-03-09</td>\n",
       "      <td>2007-07-01</td>\n",
       "      <td>NaT</td>\n",
       "      <td>0.0</td>\n",
       "      <td>Transparency Software</td>\n",
       "      <td>422 days 00:00:00</td>\n",
       "      <td>6025000.0</td>\n",
       "      <td>844 days</td>\n",
       "      <td>422</td>\n",
       "      <td>844.0</td>\n",
       "    </tr>\n",
       "    <tr>\n",
       "      <th>5678</th>\n",
       "      <td>/company/vast-systems-technology</td>\n",
       "      <td>VaST Systems Technology</td>\n",
       "      <td>software</td>\n",
       "      <td>24000000.0</td>\n",
       "      <td>operating</td>\n",
       "      <td>USA</td>\n",
       "      <td>CA</td>\n",
       "      <td>SF Bay</td>\n",
       "      <td>Sunnyvale</td>\n",
       "      <td>2</td>\n",
       "      <td>...</td>\n",
       "      <td>2005-05-23</td>\n",
       "      <td>2007-07-24</td>\n",
       "      <td>NaT</td>\n",
       "      <td>0.0</td>\n",
       "      <td>VaST Systems Technology</td>\n",
       "      <td>396 days 00:00:00</td>\n",
       "      <td>12000000.0</td>\n",
       "      <td>792 days</td>\n",
       "      <td>396</td>\n",
       "      <td>792.0</td>\n",
       "    </tr>\n",
       "    <tr>\n",
       "      <th>4757</th>\n",
       "      <td>/company/si2-microsystems</td>\n",
       "      <td>Si2 Microsystems</td>\n",
       "      <td>OtherCategory</td>\n",
       "      <td>12700000.0</td>\n",
       "      <td>operating</td>\n",
       "      <td>USA</td>\n",
       "      <td>CA</td>\n",
       "      <td>SF Bay</td>\n",
       "      <td>San Jose</td>\n",
       "      <td>1</td>\n",
       "      <td>...</td>\n",
       "      <td>2009-02-04</td>\n",
       "      <td>2009-02-04</td>\n",
       "      <td>NaT</td>\n",
       "      <td>0.0</td>\n",
       "      <td>Si2 Microsystems</td>\n",
       "      <td>0 days 00:00:00</td>\n",
       "      <td>12700000.0</td>\n",
       "      <td>NaT</td>\n",
       "      <td>0</td>\n",
       "      <td>NaN</td>\n",
       "    </tr>\n",
       "    <tr>\n",
       "      <th>3025</th>\n",
       "      <td>/company/logical-apps</td>\n",
       "      <td>Logical Apps</td>\n",
       "      <td>software</td>\n",
       "      <td>14000000.0</td>\n",
       "      <td>operating</td>\n",
       "      <td>USA</td>\n",
       "      <td>CA</td>\n",
       "      <td>Los Angeles</td>\n",
       "      <td>Irvine</td>\n",
       "      <td>1</td>\n",
       "      <td>...</td>\n",
       "      <td>2005-10-11</td>\n",
       "      <td>2005-10-11</td>\n",
       "      <td>2008-01-01</td>\n",
       "      <td>0.0</td>\n",
       "      <td>Logical Apps</td>\n",
       "      <td>0 days 00:00:00</td>\n",
       "      <td>14000000.0</td>\n",
       "      <td>NaT</td>\n",
       "      <td>0</td>\n",
       "      <td>NaN</td>\n",
       "    </tr>\n",
       "    <tr>\n",
       "      <th>4987</th>\n",
       "      <td>/company/southwest-nanotechnologies</td>\n",
       "      <td>Southwest Nanotechnologies</td>\n",
       "      <td>OtherCategory</td>\n",
       "      <td>3000000.0</td>\n",
       "      <td>operating</td>\n",
       "      <td>USA</td>\n",
       "      <td>OtherState</td>\n",
       "      <td>Norman</td>\n",
       "      <td>Norman</td>\n",
       "      <td>1</td>\n",
       "      <td>...</td>\n",
       "      <td>2009-07-07</td>\n",
       "      <td>2009-07-07</td>\n",
       "      <td>NaT</td>\n",
       "      <td>0.0</td>\n",
       "      <td>Southwest Nanotechnologies</td>\n",
       "      <td>0 days 00:00:00</td>\n",
       "      <td>3000000.0</td>\n",
       "      <td>NaT</td>\n",
       "      <td>0</td>\n",
       "      <td>NaN</td>\n",
       "    </tr>\n",
       "    <tr>\n",
       "      <th>621</th>\n",
       "      <td>/company/bez-systems</td>\n",
       "      <td>BEZ Systems</td>\n",
       "      <td>software</td>\n",
       "      <td>11100000.0</td>\n",
       "      <td>operating</td>\n",
       "      <td>USA</td>\n",
       "      <td>MA</td>\n",
       "      <td>Boston</td>\n",
       "      <td>Boston</td>\n",
       "      <td>2</td>\n",
       "      <td>...</td>\n",
       "      <td>2005-01-05</td>\n",
       "      <td>2006-09-18</td>\n",
       "      <td>2011-01-11</td>\n",
       "      <td>0.0</td>\n",
       "      <td>BEZ Systems</td>\n",
       "      <td>310 days 12:00:00</td>\n",
       "      <td>5550000.0</td>\n",
       "      <td>621 days</td>\n",
       "      <td>310</td>\n",
       "      <td>621.0</td>\n",
       "    </tr>\n",
       "    <tr>\n",
       "      <th>556</th>\n",
       "      <td>/company/b-bridge-international</td>\n",
       "      <td>B-Bridge International</td>\n",
       "      <td>biotech</td>\n",
       "      <td>4200000.0</td>\n",
       "      <td>operating</td>\n",
       "      <td>USA</td>\n",
       "      <td>CA</td>\n",
       "      <td>SF Bay</td>\n",
       "      <td>Cupertino</td>\n",
       "      <td>1</td>\n",
       "      <td>...</td>\n",
       "      <td>2005-03-29</td>\n",
       "      <td>2005-03-29</td>\n",
       "      <td>NaT</td>\n",
       "      <td>0.0</td>\n",
       "      <td>B-Bridge International</td>\n",
       "      <td>0 days 00:00:00</td>\n",
       "      <td>4200000.0</td>\n",
       "      <td>NaT</td>\n",
       "      <td>0</td>\n",
       "      <td>NaN</td>\n",
       "    </tr>\n",
       "    <tr>\n",
       "      <th>2175</th>\n",
       "      <td>/company/globalscholar-com</td>\n",
       "      <td>globalscholar.com</td>\n",
       "      <td>OtherCategory</td>\n",
       "      <td>27000000.0</td>\n",
       "      <td>acquired</td>\n",
       "      <td>USA</td>\n",
       "      <td>OtherState</td>\n",
       "      <td>Seattle</td>\n",
       "      <td>Bellevue</td>\n",
       "      <td>1</td>\n",
       "      <td>...</td>\n",
       "      <td>2008-02-04</td>\n",
       "      <td>2008-02-04</td>\n",
       "      <td>NaT</td>\n",
       "      <td>1.0</td>\n",
       "      <td>globalscholar.com</td>\n",
       "      <td>0 days 00:00:00</td>\n",
       "      <td>27000000.0</td>\n",
       "      <td>NaT</td>\n",
       "      <td>0</td>\n",
       "      <td>NaN</td>\n",
       "    </tr>\n",
       "  </tbody>\n",
       "</table>\n",
       "<p>10 rows × 24 columns</p>\n",
       "</div>"
      ],
      "text/plain": [
       "                                permalink                        name  \\\n",
       "4525                    /company/rollbase                    Rollbase   \n",
       "1150                    /company/colubris           Colubris Networks   \n",
       "5498       /company/transparency-software       Transparency Software   \n",
       "5678     /company/vast-systems-technology     VaST Systems Technology   \n",
       "4757            /company/si2-microsystems            Si2 Microsystems   \n",
       "3025                /company/logical-apps                Logical Apps   \n",
       "4987  /company/southwest-nanotechnologies  Southwest Nanotechnologies   \n",
       "621                  /company/bez-systems                 BEZ Systems   \n",
       "556       /company/b-bridge-international      B-Bridge International   \n",
       "2175           /company/globalscholar-com           globalscholar.com   \n",
       "\n",
       "      category_code  funding_total_usd     status country_code  state_code  \\\n",
       "4525     enterprise           300000.0   acquired          USA          CA   \n",
       "1150  OtherCategory         29000000.0   acquired          USA          MA   \n",
       "5498       software         12050000.0  operating          USA          CA   \n",
       "5678       software         24000000.0  operating          USA          CA   \n",
       "4757  OtherCategory         12700000.0  operating          USA          CA   \n",
       "3025       software         14000000.0  operating          USA          CA   \n",
       "4987  OtherCategory          3000000.0  operating          USA  OtherState   \n",
       "621        software         11100000.0  operating          USA          MA   \n",
       "556         biotech          4200000.0  operating          USA          CA   \n",
       "2175  OtherCategory         27000000.0   acquired          USA  OtherState   \n",
       "\n",
       "           region       city  funding_rounds  ... first_funding_at  \\\n",
       "4525       SF Bay   Saratoga               1  ...       2007-08-01   \n",
       "1150       Boston    Waltham               2  ...       2005-03-08   \n",
       "5498       SF Bay  Palo Alto               2  ...       2005-03-09   \n",
       "5678       SF Bay  Sunnyvale               2  ...       2005-05-23   \n",
       "4757       SF Bay   San Jose               1  ...       2009-02-04   \n",
       "3025  Los Angeles     Irvine               1  ...       2005-10-11   \n",
       "4987       Norman     Norman               1  ...       2009-07-07   \n",
       "621        Boston     Boston               2  ...       2005-01-05   \n",
       "556        SF Bay  Cupertino               1  ...       2005-03-29   \n",
       "2175      Seattle   Bellevue               1  ...       2008-02-04   \n",
       "\n",
       "     last_funding_at last_milestone_at  succeed                company_name  \\\n",
       "4525      2007-08-01        2013-04-29      1.0                    Rollbase   \n",
       "1150      2006-10-23        2007-05-01      1.0           Colubris Networks   \n",
       "5498      2007-07-01               NaT      0.0       Transparency Software   \n",
       "5678      2007-07-24               NaT      0.0     VaST Systems Technology   \n",
       "4757      2009-02-04               NaT      0.0            Si2 Microsystems   \n",
       "3025      2005-10-11        2008-01-01      0.0                Logical Apps   \n",
       "4987      2009-07-07               NaT      0.0  Southwest Nanotechnologies   \n",
       "621       2006-09-18        2011-01-11      0.0                 BEZ Systems   \n",
       "556       2005-03-29               NaT      0.0      B-Bridge International   \n",
       "2175      2008-02-04               NaT      1.0           globalscholar.com   \n",
       "\n",
       "     avg_time_bw_rounds avg_raise_usd  time_bw_first_rounds  \\\n",
       "4525    0 days 00:00:00      300000.0                   NaT   \n",
       "1150  297 days 00:00:00    14500000.0              594 days   \n",
       "5498  422 days 00:00:00     6025000.0              844 days   \n",
       "5678  396 days 00:00:00    12000000.0              792 days   \n",
       "4757    0 days 00:00:00    12700000.0                   NaT   \n",
       "3025    0 days 00:00:00    14000000.0                   NaT   \n",
       "4987    0 days 00:00:00     3000000.0                   NaT   \n",
       "621   310 days 12:00:00     5550000.0              621 days   \n",
       "556     0 days 00:00:00     4200000.0                   NaT   \n",
       "2175    0 days 00:00:00    27000000.0                   NaT   \n",
       "\n",
       "     float_avg_time_bw_rounds float_time_bw_first_rounds  \n",
       "4525                        0                        NaN  \n",
       "1150                      297                      594.0  \n",
       "5498                      422                      844.0  \n",
       "5678                      396                      792.0  \n",
       "4757                        0                        NaN  \n",
       "3025                        0                        NaN  \n",
       "4987                        0                        NaN  \n",
       "621                       310                      621.0  \n",
       "556                         0                        NaN  \n",
       "2175                        0                        NaN  \n",
       "\n",
       "[10 rows x 24 columns]"
      ]
     },
     "execution_count": 83,
     "metadata": {},
     "output_type": "execute_result"
    }
   ],
   "source": [
    "nonoperating_companies.sample(10)"
   ]
  },
  {
   "cell_type": "code",
   "execution_count": 84,
   "id": "81eb8e61",
   "metadata": {},
   "outputs": [
    {
     "data": {
      "text/html": [
       "<div>\n",
       "<style scoped>\n",
       "    .dataframe tbody tr th:only-of-type {\n",
       "        vertical-align: middle;\n",
       "    }\n",
       "\n",
       "    .dataframe tbody tr th {\n",
       "        vertical-align: top;\n",
       "    }\n",
       "\n",
       "    .dataframe thead th {\n",
       "        text-align: right;\n",
       "    }\n",
       "</style>\n",
       "<table border=\"1\" class=\"dataframe\">\n",
       "  <thead>\n",
       "    <tr style=\"text-align: right;\">\n",
       "      <th></th>\n",
       "      <th>funding_total_usd</th>\n",
       "      <th>funding_rounds</th>\n",
       "      <th>founded_year</th>\n",
       "      <th>succeed</th>\n",
       "      <th>avg_time_bw_rounds</th>\n",
       "      <th>avg_raise_usd</th>\n",
       "      <th>time_bw_first_rounds</th>\n",
       "      <th>float_avg_time_bw_rounds</th>\n",
       "      <th>float_time_bw_first_rounds</th>\n",
       "    </tr>\n",
       "  </thead>\n",
       "  <tbody>\n",
       "    <tr>\n",
       "      <th>count</th>\n",
       "      <td>6.190000e+03</td>\n",
       "      <td>6190.000000</td>\n",
       "      <td>4905.000000</td>\n",
       "      <td>6190.000000</td>\n",
       "      <td>6190</td>\n",
       "      <td>6.189000e+03</td>\n",
       "      <td>2348</td>\n",
       "      <td>6190.000000</td>\n",
       "      <td>2348.000000</td>\n",
       "    </tr>\n",
       "    <tr>\n",
       "      <th>mean</th>\n",
       "      <td>2.014531e+07</td>\n",
       "      <td>1.700323</td>\n",
       "      <td>2003.906014</td>\n",
       "      <td>0.295477</td>\n",
       "      <td>114 days 12:05:43.684063916</td>\n",
       "      <td>1.087627e+07</td>\n",
       "      <td>514 days 07:24:01.226575808</td>\n",
       "      <td>114.393053</td>\n",
       "      <td>514.308348</td>\n",
       "    </tr>\n",
       "    <tr>\n",
       "      <th>std</th>\n",
       "      <td>1.077718e+08</td>\n",
       "      <td>1.184342</td>\n",
       "      <td>6.788966</td>\n",
       "      <td>0.456294</td>\n",
       "      <td>197 days 20:24:25.258749896</td>\n",
       "      <td>4.575237e+07</td>\n",
       "      <td>535 days 19:48:27.896268104</td>\n",
       "      <td>197.742615</td>\n",
       "      <td>535.825323</td>\n",
       "    </tr>\n",
       "    <tr>\n",
       "      <th>min</th>\n",
       "      <td>2.910000e+02</td>\n",
       "      <td>1.000000</td>\n",
       "      <td>1906.000000</td>\n",
       "      <td>0.000000</td>\n",
       "      <td>0 days 00:00:00</td>\n",
       "      <td>2.910000e+02</td>\n",
       "      <td>1 days 00:00:00</td>\n",
       "      <td>0.000000</td>\n",
       "      <td>1.000000</td>\n",
       "    </tr>\n",
       "    <tr>\n",
       "      <th>25%</th>\n",
       "      <td>1.100000e+06</td>\n",
       "      <td>1.000000</td>\n",
       "      <td>2001.000000</td>\n",
       "      <td>0.000000</td>\n",
       "      <td>0 days 00:00:00</td>\n",
       "      <td>1.000000e+06</td>\n",
       "      <td>232 days 00:00:00</td>\n",
       "      <td>0.000000</td>\n",
       "      <td>232.000000</td>\n",
       "    </tr>\n",
       "    <tr>\n",
       "      <th>50%</th>\n",
       "      <td>5.500000e+06</td>\n",
       "      <td>1.000000</td>\n",
       "      <td>2005.000000</td>\n",
       "      <td>0.000000</td>\n",
       "      <td>0 days 00:00:00</td>\n",
       "      <td>4.000000e+06</td>\n",
       "      <td>426 days 00:00:00</td>\n",
       "      <td>0.000000</td>\n",
       "      <td>426.000000</td>\n",
       "    </tr>\n",
       "    <tr>\n",
       "      <th>75%</th>\n",
       "      <td>1.673750e+07</td>\n",
       "      <td>2.000000</td>\n",
       "      <td>2008.000000</td>\n",
       "      <td>1.000000</td>\n",
       "      <td>207 days 00:00:00</td>\n",
       "      <td>1.000000e+07</td>\n",
       "      <td>691 days 06:00:00</td>\n",
       "      <td>207.000000</td>\n",
       "      <td>691.250000</td>\n",
       "    </tr>\n",
       "    <tr>\n",
       "      <th>max</th>\n",
       "      <td>5.700000e+09</td>\n",
       "      <td>13.000000</td>\n",
       "      <td>2013.000000</td>\n",
       "      <td>1.000000</td>\n",
       "      <td>4676 days 18:00:00</td>\n",
       "      <td>1.992525e+09</td>\n",
       "      <td>18002 days 00:00:00</td>\n",
       "      <td>4676.000000</td>\n",
       "      <td>18002.000000</td>\n",
       "    </tr>\n",
       "  </tbody>\n",
       "</table>\n",
       "</div>"
      ],
      "text/plain": [
       "       funding_total_usd  funding_rounds  founded_year      succeed  \\\n",
       "count       6.190000e+03     6190.000000   4905.000000  6190.000000   \n",
       "mean        2.014531e+07        1.700323   2003.906014     0.295477   \n",
       "std         1.077718e+08        1.184342      6.788966     0.456294   \n",
       "min         2.910000e+02        1.000000   1906.000000     0.000000   \n",
       "25%         1.100000e+06        1.000000   2001.000000     0.000000   \n",
       "50%         5.500000e+06        1.000000   2005.000000     0.000000   \n",
       "75%         1.673750e+07        2.000000   2008.000000     1.000000   \n",
       "max         5.700000e+09       13.000000   2013.000000     1.000000   \n",
       "\n",
       "                avg_time_bw_rounds  avg_raise_usd  \\\n",
       "count                         6190   6.189000e+03   \n",
       "mean   114 days 12:05:43.684063916   1.087627e+07   \n",
       "std    197 days 20:24:25.258749896   4.575237e+07   \n",
       "min                0 days 00:00:00   2.910000e+02   \n",
       "25%                0 days 00:00:00   1.000000e+06   \n",
       "50%                0 days 00:00:00   4.000000e+06   \n",
       "75%              207 days 00:00:00   1.000000e+07   \n",
       "max             4676 days 18:00:00   1.992525e+09   \n",
       "\n",
       "              time_bw_first_rounds  float_avg_time_bw_rounds  \\\n",
       "count                         2348               6190.000000   \n",
       "mean   514 days 07:24:01.226575808                114.393053   \n",
       "std    535 days 19:48:27.896268104                197.742615   \n",
       "min                1 days 00:00:00                  0.000000   \n",
       "25%              232 days 00:00:00                  0.000000   \n",
       "50%              426 days 00:00:00                  0.000000   \n",
       "75%              691 days 06:00:00                207.000000   \n",
       "max            18002 days 00:00:00               4676.000000   \n",
       "\n",
       "       float_time_bw_first_rounds  \n",
       "count                 2348.000000  \n",
       "mean                   514.308348  \n",
       "std                    535.825323  \n",
       "min                      1.000000  \n",
       "25%                    232.000000  \n",
       "50%                    426.000000  \n",
       "75%                    691.250000  \n",
       "max                  18002.000000  "
      ]
     },
     "execution_count": 84,
     "metadata": {},
     "output_type": "execute_result"
    }
   ],
   "source": [
    "nonoperating_companies.describe()"
   ]
  },
  {
   "cell_type": "code",
   "execution_count": 85,
   "id": "184a5b05",
   "metadata": {},
   "outputs": [
    {
     "data": {
      "text/plain": [
       "Text(0.5, 1.0, 'Total Raise Amount')"
      ]
     },
     "execution_count": 85,
     "metadata": {},
     "output_type": "execute_result"
    },
    {
     "data": {
      "image/png": "[encoded data removed]",
      "text/plain": [
       "<Figure size 1080x360 with 4 Axes>"
      ]
     },
     "metadata": {
      "needs_background": "light"
     },
     "output_type": "display_data"
    }
   ],
   "source": [
    "plt.subplots(1, 4, figsize=(15, 5))\n",
    "plt.subplot(1, 4, 1)\n",
    "plt.boxplot(\n",
    "    nonoperating_companies.float_time_bw_first_rounds[nonoperating_companies.float_time_bw_first_rounds.notnull()])\n",
    "plt.title('Time between first rounds')\n",
    "plt.subplot(1, 4, 2)\n",
    "plt.boxplot(nonoperating_companies.float_avg_time_bw_rounds[nonoperating_companies.float_avg_time_bw_rounds.notnull()])\n",
    "plt.title('Average time between rounds')\n",
    "plt.subplot(1, 4, 3)\n",
    "plt.boxplot(nonoperating_companies.avg_raise_usd[nonoperating_companies.avg_raise_usd.notnull()])\n",
    "plt.title('Average Raise Amount')\n",
    "plt.subplot(1, 4, 4)\n",
    "plt.boxplot(nonoperating_companies.funding_total_usd[nonoperating_companies.funding_total_usd.notnull()])\n",
    "plt.title('Total Raise Amount')"
   ]
  },
  {
   "cell_type": "markdown",
   "id": "db07c456",
   "metadata": {},
   "source": [
    "# --------------------------------------"
   ]
  },
  {
   "cell_type": "code",
   "execution_count": 86,
   "id": "458a91e3",
   "metadata": {},
   "outputs": [
    {
     "data": {
      "text/plain": [
       "Index(['company_permalink', 'company_name', 'company_category_code',\n",
       "       'company_country_code', 'company_state_code', 'company_region',\n",
       "       'company_city', 'acquirer_permalink', 'acquirer_name',\n",
       "       'acquirer_category_code', 'acquirer_country_code',\n",
       "       'acquirer_state_code', 'acquirer_region', 'acquirer_city',\n",
       "       'acquired_at', 'acquired_month', 'acquired_quarter', 'acquired_year',\n",
       "       'price_amount', 'price_currency_code'],\n",
       "      dtype='object')"
      ]
     },
     "execution_count": 86,
     "metadata": {},
     "output_type": "execute_result"
    }
   ],
   "source": [
    "acquisitions.columns"
   ]
  },
  {
   "cell_type": "code",
   "execution_count": 115,
   "id": "341b0604",
   "metadata": {},
   "outputs": [
    {
     "data": {
      "text/plain": [
       "Index(['company_permalink', 'company_name', 'company_category_code',\n",
       "       'company_country_code', 'company_state_code', 'company_region',\n",
       "       'company_city', 'investor_permalink', 'investor_name',\n",
       "       'investor_category_code', 'investor_country_code',\n",
       "       'investor_state_code', 'investor_region', 'investor_city',\n",
       "       'funding_round_type', 'funded_at', 'funded_month', 'funded_quarter',\n",
       "       'funded_year', 'raised_amount_usd'],\n",
       "      dtype='object')"
      ]
     },
     "execution_count": 115,
     "metadata": {},
     "output_type": "execute_result"
    }
   ],
   "source": [
    "investments.columns"
   ]
  },
  {
   "cell_type": "code",
   "execution_count": null,
   "id": "c8417a5d",
   "metadata": {},
   "outputs": [],
   "source": [
    "companies['state_code'].unique()"
   ]
  },
  {
   "cell_type": "code",
   "execution_count": null,
   "id": "71434297",
   "metadata": {},
   "outputs": [],
   "source": [
    "len(companies['state_code'].unique())"
   ]
  },
  {
   "cell_type": "code",
   "execution_count": null,
   "id": "e7692c8b",
   "metadata": {},
   "outputs": [],
   "source": [
    "\n",
    "acquisitions['company_state_code'].unique()"
   ]
  },
  {
   "cell_type": "code",
   "execution_count": null,
   "id": "04b8bb0f",
   "metadata": {},
   "outputs": [],
   "source": [
    "len(acquisitions['company_state_code'].unique())"
   ]
  },
  {
   "cell_type": "code",
   "execution_count": null,
   "id": "dd4a89d5",
   "metadata": {},
   "outputs": [],
   "source": [
    "companies['permalink'][500:520]"
   ]
  },
  {
   "cell_type": "code",
   "execution_count": null,
   "id": "d687dd25",
   "metadata": {},
   "outputs": [],
   "source": [
    "companies['name'][500:520]"
   ]
  },
  {
   "cell_type": "code",
   "execution_count": 87,
   "id": "3518195f",
   "metadata": {},
   "outputs": [],
   "source": [
    "nonoperating_companies.to_csv('companies.csv')"
   ]
  },
  {
   "cell_type": "code",
   "execution_count": null,
   "id": "61c54419",
   "metadata": {},
   "outputs": [],
   "source": []
  }
 ],
 "metadata": {
  "kernelspec": {
   "display_name": "Python 3",
   "language": "python",
   "name": "python3"
  },
  "language_info": {
   "codemirror_mode": {
    "name": "ipython",
    "version": 3
   },
   "file_extension": ".py",
   "mimetype": "text/x-python",
   "name": "python",
   "nbconvert_exporter": "python",
   "pygments_lexer": "ipython3",
   "version": "3.8.8"
  }
 },
 "nbformat": 4,
 "nbformat_minor": 5
}
