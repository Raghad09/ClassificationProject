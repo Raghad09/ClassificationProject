{
 "cells": [
  {
   "cell_type": "markdown",
   "id": "b734e778",
   "metadata": {},
   "source": [
    "# Data Cleaning"
   ]
  },
  {
   "cell_type": "markdown",
   "id": "1179c0d8",
   "metadata": {},
   "source": [
    "this notebook contains data preprocessing techniques "
   ]
  },
  {
   "cell_type": "markdown",
   "id": "06483630",
   "metadata": {},
   "source": [
    "### Data Acquisition"
   ]
  },
  {
   "cell_type": "markdown",
   "id": "8eb17dc5",
   "metadata": {},
   "source": [
    "Obtain 2013 snapshot data from [crunchbase.com](https://data.crunchbase.com/docs/2013-snapshot)."
   ]
  },
  {
   "cell_type": "code",
   "execution_count": null,
   "id": "05aefa79",
   "metadata": {},
   "outputs": [],
   "source": []
  }
 ],
 "metadata": {
  "kernelspec": {
   "display_name": "Python 3",
   "language": "python",
   "name": "python3"
  },
  "language_info": {
   "codemirror_mode": {
    "name": "ipython",
    "version": 3
   },
   "file_extension": ".py",
   "mimetype": "text/x-python",
   "name": "python",
   "nbconvert_exporter": "python",
   "pygments_lexer": "ipython3",
   "version": "3.8.8"
  }
 },
 "nbformat": 4,
 "nbformat_minor": 5
}
